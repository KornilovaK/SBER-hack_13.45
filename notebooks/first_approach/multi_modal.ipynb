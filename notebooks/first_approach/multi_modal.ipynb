{
 "cells": [
  {
   "cell_type": "code",
   "execution_count": null,
   "id": "64c89142-beb4-4511-978e-3494e74b7ee7",
   "metadata": {},
   "outputs": [],
   "source": [
    "%matplotlib inline\n",
    "import json\n",
    "import logging\n",
    "from pathlib import Path\n",
    "import random\n",
    "import tarfile\n",
    "import tempfile\n",
    "import warnings\n",
    "import matplotlib.pyplot as plt\n",
    "import numpy as np\n",
    "import pandas as pd\n",
    "# import pandas_path # Path style access for pandas\n",
    "from tqdm import tqdm"
   ]
  },
  {
   "cell_type": "code",
   "execution_count": null,
   "id": "d81a237a-39e7-418f-ba88-874135ed6c88",
   "metadata": {},
   "outputs": [],
   "source": [
    "import torch\n",
    "import torchvision\n",
    "# import fasttext"
   ]
  },
  {
   "cell_type": "code",
   "execution_count": null,
   "id": "ab788f67-bb98-4715-b5e8-77c98e0573fc",
   "metadata": {},
   "outputs": [],
   "source": [
    "class LanguageAndVisionConcat(torch.nn.Module):\n",
    "    def __init__(self,\n",
    "                num_classes,\n",
    "                loss_fn,\n",
    "                dialog_module,\n",
    "                transaction_module,\n",
    "                language_feature_dim,\n",
    "                vision_feature_dim,\n",
    "                fusion_output_size,\n",
    "                dropout_p,\n",
    "                ):\n",
    "        super(LanguageAndVisionConcat, self).__init__()\n",
    "        self.dialog_module = dialog_module\n",
    "        self.transaction_module = transaction_module\n",
    "\n",
    "        self.fusion = torch.nn.Linear(in_features=(dialog_module + transaction_module),\n",
    "                                      out_features=fusion_output_size\n",
    "                                      )\n",
    "        self.fc = torch.nn.Linear(in_features=fusion_output_size,\n",
    "                                  out_features=num_classes\n",
    "                                  )\n",
    "        self.loss_fn = loss_fn\n",
    "        self.dropout = torch.nn.Dropout(dropout_p)\n",
    "\n",
    "    def forward(self, text, table, label=None):\n",
    "        text_features = torch.nn.functional.relu(self.language_module(text))\n",
    "        table_features = torch.nn.functional.relu(self.transaction_module(table))\n",
    "        combined = torch.cat([text_features, table_features], dim=1)\n",
    "        fused = self.dropout(torch.nn.functional.relu(self.fusion(combined)))\n",
    "\n",
    "        logits = self.fc(fused)\n",
    "        pred = torch.nn.functional.softmax(logits)\n",
    "        loss = (self.loss_fn(pred, label) if label is not None else label)\n",
    "\n",
    "        return (pred, loss, logits)\n"
   ]
  },
  {
   "cell_type": "code",
   "execution_count": null,
   "id": "656e92f3-c6dc-4c25-ad1b-4053674cf20d",
   "metadata": {},
   "outputs": [],
   "source": [
    "import torch.optim as optim\n",
    "import torch.nn as nn\n",
    "\n",
    "criterion = nn.CrossEntropyLoss()\n",
    "model = LanguageAndVisionConcat(num_classes, image_module, dialog_module)\n",
    "optimizer = optim.Adam(model.parameters(), lr=0.001)\n"
   ]
  },
  {
   "cell_type": "code",
   "execution_count": null,
   "id": "f755cd54-79f0-4b65-8f8f-049f23534276",
   "metadata": {},
   "outputs": [],
   "source": [
    "# set up our data loaders and model\n",
    "train_loader = DataLoader(train_dataset, batch_size=32, shuffle=True)\n",
    "val_loader = DataLoader(val_dataset, batch_size=32, shuffle=False)\n",
    "\n",
    "# train the model\n",
    "num_epochs = 10\n",
    "for epoch in range(num_epochs):\n",
    "for i, batch in enumerate(train_loader):\n",
    "images, texts, labels = batch\n",
    "optimizer.zero_grad()\n",
    "logits = model(images, texts)\n",
    "loss = criterion(logits, labels)\n",
    "loss.backward()\n",
    "optimizer.step()\n",
    "if i % 100 == 0:\n",
    "print(f\"Epoch {epoch+1}, batch {i+1}: loss {loss.item():.4f}\")"
   ]
  },
  {
   "cell_type": "code",
   "execution_count": null,
   "id": "3ef8fb75-be4e-4fda-a2ae-ffdfa4bb93ae",
   "metadata": {},
   "outputs": [],
   "source": [
    "\n",
    "# evaluate on validation set\n",
    "total_correct = 0\n",
    "total_samples = 0\n",
    "with torch.no_grad():\n",
    "for batch in val_loader:\n",
    "images, texts, labels = batch\n",
    "logits = model(images, texts)\n",
    "predictions = torch.argmax(logits, dim=1)\n",
    "total_correct += (predictions == labels).sum().item()\n",
    "total_samples += len(labels)\n",
    "accuracy = total_correct / total_samples\n",
    "print(f\"Epoch {epoch+1} validation accuracy: {accuracy:.4f}\")"
   ]
  }
 ],
 "metadata": {
  "kernelspec": {
   "display_name": "Python 3 (ipykernel)",
   "language": "python",
   "name": "python3"
  },
  "language_info": {
   "codemirror_mode": {
    "name": "ipython",
    "version": 3
   },
   "file_extension": ".py",
   "mimetype": "text/x-python",
   "name": "python",
   "nbconvert_exporter": "python",
   "pygments_lexer": "ipython3",
   "version": "3.10.12"
  }
 },
 "nbformat": 4,
 "nbformat_minor": 5
}
