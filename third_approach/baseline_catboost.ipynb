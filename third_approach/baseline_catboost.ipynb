{
 "cells": [
  {
   "cell_type": "markdown",
   "metadata": {
    "id": "1hcMWSaRayB0"
   },
   "source": [
    "# Обучаем простой бейзлайн с использованием транзакционной модальности"
   ]
  },
  {
   "cell_type": "code",
   "execution_count": 231,
   "metadata": {
    "execution": {
     "iopub.execute_input": "2024-07-04T10:44:27.395959Z",
     "iopub.status.busy": "2024-07-04T10:44:27.394991Z",
     "iopub.status.idle": "2024-07-04T10:44:27.406507Z",
     "shell.execute_reply": "2024-07-04T10:44:27.405838Z",
     "shell.execute_reply.started": "2024-07-04T10:44:27.395923Z"
    },
    "id": "RwTNhASoa3Te",
    "tags": []
   },
   "outputs": [],
   "source": [
    "from sklearn.model_selection import train_test_split\n",
    "from sklearn.metrics import roc_auc_score\n",
    "import pandas as pd\n",
    "import numpy as np\n",
    "from lightgbm import LGBMClassifier, Dataset\n",
    "import lightgbm\n",
    "import datetime\n",
    "import pickle\n",
    "\n",
    "RS = 2024\n",
    "DATA_PATH = '.'"
   ]
  },
  {
   "cell_type": "code",
   "execution_count": 52,
   "metadata": {
    "execution": {
     "iopub.execute_input": "2024-07-04T01:41:08.616Z",
     "iopub.status.busy": "2024-07-04T01:41:08.615180Z",
     "iopub.status.idle": "2024-07-04T01:41:09.247567Z",
     "shell.execute_reply": "2024-07-04T01:41:09.246934Z",
     "shell.execute_reply.started": "2024-07-04T01:41:08.615968Z"
    },
    "tags": []
   },
   "outputs": [
    {
     "name": "stdout",
     "output_type": "stream",
     "text": [
      "Access denied with the following error:\n"
     ]
    },
    {
     "name": "stderr",
     "output_type": "stream",
     "text": [
      "\n",
      " \tCannot retrieve the public link of the file. You may need to change\n",
      "\tthe permission to 'Anyone with the link', or have had many accesses. \n",
      "\n",
      "You may still be able to access the file from the browser:\n",
      "\n",
      "\t https://drive.google.com/uc?id=11lfx9zNEt3bpRi9L-Ti7u3Q7Uur_m4mh \n",
      "\n"
     ]
    }
   ],
   "source": [
    "# import gdown\n",
    "# gdown.download(id='11lfx9zNEt3bpRi9L-Ti7u3Q7Uur_m4mh', output='/home/jupyter/datasphere/project/IPRO/')"
   ]
  },
  {
   "cell_type": "code",
   "execution_count": 224,
   "metadata": {
    "execution": {
     "iopub.execute_input": "2024-07-04T10:22:44.583Z",
     "iopub.status.busy": "2024-07-04T10:22:44.581997Z",
     "iopub.status.idle": "2024-07-04T10:22:51.779151Z",
     "shell.execute_reply": "2024-07-04T10:22:51.778053Z",
     "shell.execute_reply.started": "2024-07-04T10:22:44.582965Z"
    },
    "tags": []
   },
   "outputs": [
    {
     "name": "stdout",
     "output_type": "stream",
     "text": [
      "Defaulting to user installation because normal site-packages is not writeable\n",
      "Requirement already satisfied: google.colab in ./src/google-colab (1.0.0)\n",
      "Requirement already satisfied: google-auth==2.27.0 in /home/jupyter/.local/lib/python3.10/site-packages (from google.colab) (2.27.0)\n",
      "Requirement already satisfied: ipykernel==5.5.6 in /usr/local/lib/python3.10/dist-packages (from google.colab) (5.5.6)\n",
      "Requirement already satisfied: ipyparallel==8.8.0 in /home/jupyter/.local/lib/python3.10/site-packages (from google.colab) (8.8.0)\n",
      "Requirement already satisfied: ipython==7.34.0 in /usr/local/lib/python3.10/dist-packages (from google.colab) (7.34.0)\n",
      "Requirement already satisfied: notebook==6.5.5 in /home/jupyter/.local/lib/python3.10/site-packages (from google.colab) (6.5.5)\n",
      "Requirement already satisfied: pandas==2.0.3 in /home/jupyter/.local/lib/python3.10/site-packages (from google.colab) (2.0.3)\n",
      "Requirement already satisfied: portpicker==1.5.2 in /usr/local/lib/python3.10/dist-packages (from google.colab) (1.5.2)\n",
      "Requirement already satisfied: requests==2.31.0 in /home/jupyter/.local/lib/python3.10/site-packages (from google.colab) (2.31.0)\n",
      "Requirement already satisfied: tornado==6.3.3 in /home/jupyter/.local/lib/python3.10/site-packages (from google.colab) (6.3.3)\n",
      "Requirement already satisfied: cachetools<6.0,>=2.0.0 in /usr/local/lib/python3.10/dist-packages (from google-auth==2.27.0->google.colab) (5.3.1)\n",
      "Requirement already satisfied: pyasn1-modules>=0.2.1 in /usr/local/lib/python3.10/dist-packages (from google-auth==2.27.0->google.colab) (0.3.0)\n",
      "Requirement already satisfied: rsa<5,>=3.1.4 in /usr/local/lib/python3.10/dist-packages (from google-auth==2.27.0->google.colab) (4.9)\n",
      "Requirement already satisfied: ipython-genutils in /usr/local/lib/python3.10/dist-packages (from ipykernel==5.5.6->google.colab) (0.2.0)\n",
      "Requirement already satisfied: traitlets>=4.1.0 in /usr/local/lib/python3.10/dist-packages (from ipykernel==5.5.6->google.colab) (5.7.1)\n",
      "Requirement already satisfied: jupyter-client in /usr/local/lib/python3.10/dist-packages (from ipykernel==5.5.6->google.colab) (6.1.12)\n",
      "Requirement already satisfied: decorator in /usr/local/lib/python3.10/dist-packages (from ipyparallel==8.8.0->google.colab) (4.4.2)\n",
      "Requirement already satisfied: entrypoints in /usr/local/lib/python3.10/dist-packages (from ipyparallel==8.8.0->google.colab) (0.4)\n",
      "Requirement already satisfied: psutil in /kernel/lib/python3.10/site-packages (from ipyparallel==8.8.0->google.colab) (5.9.8)\n",
      "Requirement already satisfied: python-dateutil>=2.1 in /usr/local/lib/python3.10/dist-packages (from ipyparallel==8.8.0->google.colab) (2.8.2)\n",
      "Requirement already satisfied: pyzmq>=18 in /kernel/lib/python3.10/site-packages (from ipyparallel==8.8.0->google.colab) (26.0.3)\n",
      "Requirement already satisfied: tqdm in /home/jupyter/.local/lib/python3.10/site-packages (from ipyparallel==8.8.0->google.colab) (4.64.1)\n",
      "Requirement already satisfied: setuptools>=18.5 in /kernel/lib/python3.10/site-packages (from ipython==7.34.0->google.colab) (65.5.0)\n",
      "Requirement already satisfied: jedi>=0.16 in /usr/local/lib/python3.10/dist-packages (from ipython==7.34.0->google.colab) (0.19.0)\n",
      "Requirement already satisfied: pickleshare in /usr/local/lib/python3.10/dist-packages (from ipython==7.34.0->google.colab) (0.7.5)\n",
      "Requirement already satisfied: prompt-toolkit!=3.0.0,!=3.0.1,<3.1.0,>=2.0.0 in /usr/local/lib/python3.10/dist-packages (from ipython==7.34.0->google.colab) (3.0.39)\n",
      "Requirement already satisfied: pygments in /usr/local/lib/python3.10/dist-packages (from ipython==7.34.0->google.colab) (2.14.0)\n",
      "Requirement already satisfied: backcall in /usr/local/lib/python3.10/dist-packages (from ipython==7.34.0->google.colab) (0.2.0)\n",
      "Requirement already satisfied: matplotlib-inline in /usr/local/lib/python3.10/dist-packages (from ipython==7.34.0->google.colab) (0.1.6)\n",
      "Requirement already satisfied: pexpect>4.3 in /usr/local/lib/python3.10/dist-packages (from ipython==7.34.0->google.colab) (4.8.0)\n",
      "Requirement already satisfied: jinja2 in /usr/local/lib/python3.10/dist-packages (from notebook==6.5.5->google.colab) (3.1.2)\n",
      "Collecting pyzmq>=18 (from ipyparallel==8.8.0->google.colab)\n",
      "  Using cached pyzmq-24.0.1-cp310-cp310-manylinux_2_17_x86_64.manylinux2014_x86_64.whl.metadata (4.8 kB)\n",
      "Requirement already satisfied: argon2-cffi in /usr/local/lib/python3.10/dist-packages (from notebook==6.5.5->google.colab) (21.3.0)\n",
      "Requirement already satisfied: jupyter-core>=4.6.1 in /usr/local/lib/python3.10/dist-packages (from notebook==6.5.5->google.colab) (5.3.1)\n",
      "Requirement already satisfied: nbformat in /usr/local/lib/python3.10/dist-packages (from notebook==6.5.5->google.colab) (5.9.1)\n",
      "Requirement already satisfied: nbconvert>=5 in /usr/local/lib/python3.10/dist-packages (from notebook==6.5.5->google.colab) (6.5.4)\n",
      "Requirement already satisfied: nest-asyncio>=1.5 in /usr/local/lib/python3.10/dist-packages (from notebook==6.5.5->google.colab) (1.5.6)\n",
      "Requirement already satisfied: Send2Trash>=1.8.0 in /usr/local/lib/python3.10/dist-packages (from notebook==6.5.5->google.colab) (1.8.2)\n",
      "Requirement already satisfied: terminado>=0.8.3 in /usr/local/lib/python3.10/dist-packages (from notebook==6.5.5->google.colab) (0.17.1)\n",
      "Requirement already satisfied: prometheus-client in /usr/local/lib/python3.10/dist-packages (from notebook==6.5.5->google.colab) (0.17.1)\n",
      "Requirement already satisfied: nbclassic>=0.4.7 in /home/jupyter/.local/lib/python3.10/site-packages (from notebook==6.5.5->google.colab) (1.1.0)\n",
      "Requirement already satisfied: pytz>=2020.1 in /usr/local/lib/python3.10/dist-packages (from pandas==2.0.3->google.colab) (2022.7.1)\n",
      "Requirement already satisfied: tzdata>=2022.1 in /usr/local/lib/python3.10/dist-packages (from pandas==2.0.3->google.colab) (2023.3)\n",
      "Requirement already satisfied: numpy>=1.21.0 in /usr/local/lib/python3.10/dist-packages (from pandas==2.0.3->google.colab) (1.22.4)\n",
      "Requirement already satisfied: charset-normalizer<4,>=2 in /home/jupyter/.local/lib/python3.10/site-packages (from requests==2.31.0->google.colab) (2.0.12)\n",
      "Requirement already satisfied: idna<4,>=2.5 in /home/jupyter/.local/lib/python3.10/site-packages (from requests==2.31.0->google.colab) (2.10)\n",
      "Requirement already satisfied: urllib3<3,>=1.21.1 in /usr/local/lib/python3.10/dist-packages (from requests==2.31.0->google.colab) (1.26.16)\n",
      "Requirement already satisfied: certifi>=2017.4.17 in /usr/local/lib/python3.10/dist-packages (from requests==2.31.0->google.colab) (2023.7.22)\n",
      "Requirement already satisfied: parso<0.9.0,>=0.8.3 in /usr/local/lib/python3.10/dist-packages (from jedi>=0.16->ipython==7.34.0->google.colab) (0.8.3)\n",
      "Requirement already satisfied: platformdirs>=2.5 in /usr/local/lib/python3.10/dist-packages (from jupyter-core>=4.6.1->notebook==6.5.5->google.colab) (3.9.1)\n",
      "Requirement already satisfied: notebook-shim>=0.2.3 in /home/jupyter/.local/lib/python3.10/site-packages (from nbclassic>=0.4.7->notebook==6.5.5->google.colab) (0.2.4)\n",
      "Requirement already satisfied: lxml in /usr/local/lib/python3.10/dist-packages (from nbconvert>=5->notebook==6.5.5->google.colab) (4.9.3)\n",
      "Requirement already satisfied: beautifulsoup4 in /usr/local/lib/python3.10/dist-packages (from nbconvert>=5->notebook==6.5.5->google.colab) (4.11.2)\n",
      "Requirement already satisfied: bleach in /usr/local/lib/python3.10/dist-packages (from nbconvert>=5->notebook==6.5.5->google.colab) (6.0.0)\n",
      "Requirement already satisfied: defusedxml in /usr/local/lib/python3.10/dist-packages (from nbconvert>=5->notebook==6.5.5->google.colab) (0.7.1)\n",
      "Requirement already satisfied: jupyterlab-pygments in /usr/local/lib/python3.10/dist-packages (from nbconvert>=5->notebook==6.5.5->google.colab) (0.2.2)\n",
      "Requirement already satisfied: MarkupSafe>=2.0 in /usr/local/lib/python3.10/dist-packages (from nbconvert>=5->notebook==6.5.5->google.colab) (2.1.3)\n",
      "Requirement already satisfied: mistune<2,>=0.8.1 in /usr/local/lib/python3.10/dist-packages (from nbconvert>=5->notebook==6.5.5->google.colab) (0.8.4)\n",
      "Requirement already satisfied: nbclient>=0.5.0 in /usr/local/lib/python3.10/dist-packages (from nbconvert>=5->notebook==6.5.5->google.colab) (0.8.0)\n",
      "Requirement already satisfied: packaging in /usr/local/lib/python3.10/dist-packages (from nbconvert>=5->notebook==6.5.5->google.colab) (23.1)\n",
      "Requirement already satisfied: pandocfilters>=1.4.1 in /usr/local/lib/python3.10/dist-packages (from nbconvert>=5->notebook==6.5.5->google.colab) (1.5.0)\n",
      "Requirement already satisfied: tinycss2 in /usr/local/lib/python3.10/dist-packages (from nbconvert>=5->notebook==6.5.5->google.colab) (1.2.1)\n",
      "Requirement already satisfied: fastjsonschema in /usr/local/lib/python3.10/dist-packages (from nbformat->notebook==6.5.5->google.colab) (2.18.0)\n",
      "Requirement already satisfied: jsonschema>=2.6 in /usr/local/lib/python3.10/dist-packages (from nbformat->notebook==6.5.5->google.colab) (4.3.3)\n",
      "Requirement already satisfied: ptyprocess>=0.5 in /usr/local/lib/python3.10/dist-packages (from pexpect>4.3->ipython==7.34.0->google.colab) (0.7.0)\n",
      "Requirement already satisfied: wcwidth in /usr/local/lib/python3.10/dist-packages (from prompt-toolkit!=3.0.0,!=3.0.1,<3.1.0,>=2.0.0->ipython==7.34.0->google.colab) (0.2.6)\n",
      "Requirement already satisfied: pyasn1<0.6.0,>=0.4.6 in /usr/local/lib/python3.10/dist-packages (from pyasn1-modules>=0.2.1->google-auth==2.27.0->google.colab) (0.5.0)\n",
      "Requirement already satisfied: six>=1.5 in /usr/lib/python3/dist-packages (from python-dateutil>=2.1->ipyparallel==8.8.0->google.colab) (1.16.0)\n",
      "Requirement already satisfied: argon2-cffi-bindings in /usr/local/lib/python3.10/dist-packages (from argon2-cffi->notebook==6.5.5->google.colab) (21.2.0)\n",
      "Requirement already satisfied: attrs>=17.4.0 in /usr/local/lib/python3.10/dist-packages (from jsonschema>=2.6->nbformat->notebook==6.5.5->google.colab) (23.1.0)\n",
      "Requirement already satisfied: pyrsistent!=0.17.0,!=0.17.1,!=0.17.2,>=0.14.0 in /usr/local/lib/python3.10/dist-packages (from jsonschema>=2.6->nbformat->notebook==6.5.5->google.colab) (0.19.3)\n",
      "Requirement already satisfied: jupyter-server<3,>=1.8 in /usr/local/lib/python3.10/dist-packages (from notebook-shim>=0.2.3->nbclassic>=0.4.7->notebook==6.5.5->google.colab) (1.24.0)\n",
      "Requirement already satisfied: cffi>=1.0.1 in /usr/local/lib/python3.10/dist-packages (from argon2-cffi-bindings->argon2-cffi->notebook==6.5.5->google.colab) (1.15.1)\n",
      "Requirement already satisfied: soupsieve>1.2 in /usr/local/lib/python3.10/dist-packages (from beautifulsoup4->nbconvert>=5->notebook==6.5.5->google.colab) (2.4.1)\n",
      "Requirement already satisfied: webencodings in /usr/local/lib/python3.10/dist-packages (from bleach->nbconvert>=5->notebook==6.5.5->google.colab) (0.5.1)\n",
      "Requirement already satisfied: pycparser in /usr/local/lib/python3.10/dist-packages (from cffi>=1.0.1->argon2-cffi-bindings->argon2-cffi->notebook==6.5.5->google.colab) (2.21)\n",
      "Requirement already satisfied: anyio<4,>=3.1.0 in /usr/local/lib/python3.10/dist-packages (from jupyter-server<3,>=1.8->notebook-shim>=0.2.3->nbclassic>=0.4.7->notebook==6.5.5->google.colab) (3.7.1)\n",
      "Requirement already satisfied: websocket-client in /usr/local/lib/python3.10/dist-packages (from jupyter-server<3,>=1.8->notebook-shim>=0.2.3->nbclassic>=0.4.7->notebook==6.5.5->google.colab) (1.6.1)\n",
      "Requirement already satisfied: sniffio>=1.1 in /usr/local/lib/python3.10/dist-packages (from anyio<4,>=3.1.0->jupyter-server<3,>=1.8->notebook-shim>=0.2.3->nbclassic>=0.4.7->notebook==6.5.5->google.colab) (1.3.0)\n",
      "Requirement already satisfied: exceptiongroup in /usr/local/lib/python3.10/dist-packages (from anyio<4,>=3.1.0->jupyter-server<3,>=1.8->notebook-shim>=0.2.3->nbclassic>=0.4.7->notebook==6.5.5->google.colab) (1.1.2)\n",
      "Using cached pyzmq-24.0.1-cp310-cp310-manylinux_2_17_x86_64.manylinux2014_x86_64.whl (1.1 MB)\n",
      "Installing collected packages: pyzmq\n",
      "Successfully installed pyzmq-24.0.1\n",
      "\n",
      "\u001b[1m[\u001b[0m\u001b[34;49mnotice\u001b[0m\u001b[1;39;49m]\u001b[0m\u001b[39;49m A new release of pip is available: \u001b[0m\u001b[31;49m23.0.1\u001b[0m\u001b[39;49m -> \u001b[0m\u001b[32;49m24.1.1\u001b[0m\n",
      "\u001b[1m[\u001b[0m\u001b[34;49mnotice\u001b[0m\u001b[1;39;49m]\u001b[0m\u001b[39;49m To update, run: \u001b[0m\u001b[32;49mpython3 -m pip install --upgrade pip\u001b[0m\n"
     ]
    }
   ],
   "source": [
    "%pip install google.colab"
   ]
  },
  {
   "cell_type": "code",
   "execution_count": 232,
   "metadata": {
    "colab": {
     "base_uri": "https://localhost:8080/"
    },
    "execution": {
     "iopub.execute_input": "2024-07-04T10:44:32.835039Z",
     "iopub.status.busy": "2024-07-04T10:44:32.834018Z",
     "iopub.status.idle": "2024-07-04T10:44:32.868191Z",
     "shell.execute_reply": "2024-07-04T10:44:32.867292Z",
     "shell.execute_reply.started": "2024-07-04T10:44:32.835008Z"
    },
    "id": "EUZvxTMEDo8E",
    "outputId": "f7c611f2-0f3b-45a9-d12d-42f57f60142c",
    "tags": []
   },
   "outputs": [
    {
     "ename": "ModuleNotFoundError",
     "evalue": "No module named 'google.colab'",
     "output_type": "error",
     "traceback": [
      "\u001b[0;31m---------------------------------------------------------------------------\u001b[0m",
      "\u001b[0;31mModuleNotFoundError\u001b[0m                       Traceback (most recent call last)",
      "\u001b[0;32m/tmp/ipykernel_2346/451384764.py\u001b[0m in \u001b[0;36m<cell line: 1>\u001b[0;34m()\u001b[0m\n\u001b[0;32m----> 1\u001b[0;31m \u001b[0;32mfrom\u001b[0m \u001b[0mgoogle\u001b[0m\u001b[0;34m.\u001b[0m\u001b[0mcolab\u001b[0m \u001b[0;32mimport\u001b[0m \u001b[0mdrive\u001b[0m\u001b[0;34m\u001b[0m\u001b[0;34m\u001b[0m\u001b[0m\n\u001b[0m\u001b[1;32m      2\u001b[0m \u001b[0mdrive\u001b[0m\u001b[0;34m.\u001b[0m\u001b[0mmount\u001b[0m\u001b[0;34m(\u001b[0m\u001b[0;34m\"/content/drive\"\u001b[0m\u001b[0;34m)\u001b[0m\u001b[0;34m\u001b[0m\u001b[0;34m\u001b[0m\u001b[0m\n",
      "\u001b[0;31mModuleNotFoundError\u001b[0m: No module named 'google.colab'"
     ]
    }
   ],
   "source": [
    "from google.colab import drive\n",
    "drive.mount(\"/content/drive\")"
   ]
  },
  {
   "cell_type": "code",
   "execution_count": 2,
   "metadata": {
    "colab": {
     "base_uri": "https://localhost:8080/"
    },
    "id": "b0uCQXD7O_RX",
    "outputId": "c71df36e-a1a1-4866-fb90-092ff8cb4017"
   },
   "outputs": [
    {
     "name": "stdout",
     "output_type": "stream",
     "text": [
      "Downloading...\n",
      "From (original): https://drive.google.com/uc?id=1ziex74txaETxP03nzZkMJyCNZK9zX7yw\n",
      "From (redirected): https://drive.google.com/uc?id=1ziex74txaETxP03nzZkMJyCNZK9zX7yw&confirm=t&uuid=f384c321-b7c7-4a1a-8c92-75e9fcc03df3\n",
      "To: /content/Я Профессионал 2024 Сбер.zip\n",
      "100% 5.61G/5.61G [02:07<00:00, 44.0MB/s]\n"
     ]
    }
   ],
   "source": [
    "# !gdown 1ziex74txaETxP03nzZkMJyCNZK9zX7yw"
   ]
  },
  {
   "cell_type": "code",
   "execution_count": 8,
   "metadata": {
    "colab": {
     "base_uri": "https://localhost:8080/"
    },
    "id": "BABqeOOPtgwK",
    "outputId": "b1a5c67e-55a6-4ef2-f39f-4ff5509f4450"
   },
   "outputs": [
    {
     "name": "stdout",
     "output_type": "stream",
     "text": [
      "error: invalid zip file with overlapped components (possible zip bomb)\n"
     ]
    }
   ],
   "source": [
    "# !unzip -uq \"/content/data.zip\" -d \"drive/My Drive/IPRO/\""
   ]
  },
  {
   "cell_type": "code",
   "execution_count": 10,
   "metadata": {
    "id": "GfsVsKqSPUuz"
   },
   "outputs": [],
   "source": [
    "# import zipfile\n",
    "# with zipfile.ZipFile(\"/content/data.zip\", 'r') as zip_ref:\n",
    "#     zip_ref.extractall(\"drive/My Drive/IPRO/\")"
   ]
  },
  {
   "cell_type": "code",
   "execution_count": 184,
   "metadata": {
    "execution": {
     "iopub.execute_input": "2024-07-04T09:10:23.722884Z",
     "iopub.status.busy": "2024-07-04T09:10:23.721868Z",
     "iopub.status.idle": "2024-07-04T09:10:24.828669Z",
     "shell.execute_reply": "2024-07-04T09:10:24.827500Z",
     "shell.execute_reply.started": "2024-07-04T09:10:23.722851Z"
    }
   },
   "outputs": [
    {
     "name": "stdout",
     "output_type": "stream",
     "text": [
      "Access denied with the following error:\n"
     ]
    },
    {
     "name": "stderr",
     "output_type": "stream",
     "text": [
      "\n",
      " \tCannot retrieve the public link of the file. You may need to change\n",
      "\tthe permission to 'Anyone with the link', or have had many accesses. \n",
      "\n",
      "You may still be able to access the file from the browser:\n",
      "\n",
      "\t https://drive.google.com/uc?id=1780ufCJsTVaSzuZ2f5jzf17TGjyQMMkM \n",
      "\n"
     ]
    },
    {
     "ename": "Exception",
     "evalue": "Process exited with code 1",
     "output_type": "error",
     "traceback": [
      "\u001b[0;31m---------------------------------------------------------------------------\u001b[0m",
      "\u001b[0;31mException\u001b[0m                                 Traceback (most recent call last)",
      "\u001b[0;32m/tmp/ipykernel_2346/1783372380.py\u001b[0m in \u001b[0;36m<cell line: 1>\u001b[0;34m()\u001b[0m\n\u001b[0;32m----> 1\u001b[0;31m \u001b[0mget_ipython\u001b[0m\u001b[0;34m(\u001b[0m\u001b[0;34m)\u001b[0m\u001b[0;34m.\u001b[0m\u001b[0msystem\u001b[0m\u001b[0;34m(\u001b[0m\u001b[0;34m'gdown 1780ufCJsTVaSzuZ2f5jzf17TGjyQMMkM'\u001b[0m\u001b[0;34m)\u001b[0m\u001b[0;34m\u001b[0m\u001b[0;34m\u001b[0m\u001b[0m\n\u001b[0m",
      "\u001b[0;32m/kernel/lib/python3.10/site-packages/ml_kernel/kernel.py\u001b[0m in \u001b[0;36m<lambda>\u001b[0;34m(code)\u001b[0m\n\u001b[1;32m    190\u001b[0m \u001b[0;34m\u001b[0m\u001b[0m\n\u001b[1;32m    191\u001b[0m         \u001b[0mself\u001b[0m\u001b[0;34m.\u001b[0m\u001b[0m_script_executor\u001b[0m \u001b[0;34m=\u001b[0m \u001b[0mScriptExecutor\u001b[0m\u001b[0;34m(\u001b[0m\u001b[0mget_output_error_code\u001b[0m\u001b[0;34m)\u001b[0m\u001b[0;34m\u001b[0m\u001b[0;34m\u001b[0m\u001b[0m\n\u001b[0;32m--> 192\u001b[0;31m         \u001b[0mself\u001b[0m\u001b[0;34m.\u001b[0m\u001b[0mshell\u001b[0m\u001b[0;34m.\u001b[0m\u001b[0msystem\u001b[0m \u001b[0;34m=\u001b[0m \u001b[0;32mlambda\u001b[0m \u001b[0mcode\u001b[0m\u001b[0;34m:\u001b[0m \u001b[0mself\u001b[0m\u001b[0;34m.\u001b[0m\u001b[0m_script_executor\u001b[0m\u001b[0;34m.\u001b[0m\u001b[0mexecute\u001b[0m\u001b[0;34m(\u001b[0m\u001b[0;34m\"bash\"\u001b[0m\u001b[0;34m,\u001b[0m \u001b[0mcode\u001b[0m\u001b[0;34m)\u001b[0m\u001b[0;34m\u001b[0m\u001b[0;34m\u001b[0m\u001b[0m\n\u001b[0m\u001b[1;32m    193\u001b[0m \u001b[0;34m\u001b[0m\u001b[0m\n\u001b[1;32m    194\u001b[0m     \u001b[0;32mdef\u001b[0m \u001b[0m_init_user_ns\u001b[0m\u001b[0;34m(\u001b[0m\u001b[0mself\u001b[0m\u001b[0;34m)\u001b[0m\u001b[0;34m:\u001b[0m\u001b[0;34m\u001b[0m\u001b[0;34m\u001b[0m\u001b[0m\n",
      "\u001b[0;32m/kernel/lib/python3.10/site-packages/ml_kernel/script_executor.py\u001b[0m in \u001b[0;36mexecute\u001b[0;34m(self, lang, code)\u001b[0m\n\u001b[1;32m     41\u001b[0m         \u001b[0mreturn_code\u001b[0m \u001b[0;34m=\u001b[0m \u001b[0mself\u001b[0m\u001b[0;34m.\u001b[0m\u001b[0mdo_execute\u001b[0m\u001b[0;34m(\u001b[0m\u001b[0mcode\u001b[0m\u001b[0;34m)\u001b[0m\u001b[0;34m\u001b[0m\u001b[0;34m\u001b[0m\u001b[0m\n\u001b[1;32m     42\u001b[0m         \u001b[0;32mif\u001b[0m \u001b[0mreturn_code\u001b[0m \u001b[0;34m!=\u001b[0m \u001b[0;36m0\u001b[0m\u001b[0;34m:\u001b[0m\u001b[0;34m\u001b[0m\u001b[0;34m\u001b[0m\u001b[0m\n\u001b[0;32m---> 43\u001b[0;31m             \u001b[0;32mraise\u001b[0m \u001b[0mException\u001b[0m\u001b[0;34m(\u001b[0m\u001b[0;34m'Process exited with code %d'\u001b[0m \u001b[0;34m%\u001b[0m \u001b[0mreturn_code\u001b[0m\u001b[0;34m)\u001b[0m\u001b[0;34m\u001b[0m\u001b[0;34m\u001b[0m\u001b[0m\n\u001b[0m",
      "\u001b[0;31mException\u001b[0m: Process exited with code 1"
     ]
    }
   ],
   "source": [
    "!gdown 1780ufCJsTVaSzuZ2f5jzf17TGjyQMMkM\n",
    "https://drive.google.com/file/d/1780ufCJsTVaSzuZ2f5jzf17TGjyQMMkM/view?usp=sharing"
   ]
  },
  {
   "cell_type": "code",
   "execution_count": 189,
   "metadata": {
    "execution": {
     "iopub.execute_input": "2024-07-04T09:15:51.975289Z",
     "iopub.status.busy": "2024-07-04T09:15:51.974424Z",
     "iopub.status.idle": "2024-07-04T09:15:52.466387Z",
     "shell.execute_reply": "2024-07-04T09:15:52.465555Z",
     "shell.execute_reply.started": "2024-07-04T09:15:51.975259Z"
    },
    "tags": []
   },
   "outputs": [],
   "source": [
    "url='https://drive.google.com/file/d/1780ufCJsTVaSzuZ2f5jzf17TGjyQMMkM/view?usp=sharing'\n",
    "# url='https://drive.google.com/uc?export=download&confirm=t&id=' + url.split('/')[-2]\n",
    "url = f'https://drive.google.com/uc?id=1780ufCJsTVaSzuZ2f5jzf17TGjyQMMkM&export=download&authuser=1&confirm=1'\n",
    "data2 = pd.read_csv(url)"
   ]
  },
  {
   "cell_type": "code",
   "execution_count": 190,
   "metadata": {
    "execution": {
     "iopub.execute_input": "2024-07-04T09:15:52.468027Z",
     "iopub.status.busy": "2024-07-04T09:15:52.467600Z",
     "iopub.status.idle": "2024-07-04T09:15:52.484247Z",
     "shell.execute_reply": "2024-07-04T09:15:52.483571Z",
     "shell.execute_reply.started": "2024-07-04T09:15:52.468001Z"
    },
    "tags": []
   },
   "outputs": [
    {
     "data": {
      "text/html": [
       "<div>\n",
       "<style scoped>\n",
       "    .dataframe tbody tr th:only-of-type {\n",
       "        vertical-align: middle;\n",
       "    }\n",
       "\n",
       "    .dataframe tbody tr th {\n",
       "        vertical-align: top;\n",
       "    }\n",
       "\n",
       "    .dataframe thead th {\n",
       "        text-align: right;\n",
       "    }\n",
       "</style>\n",
       "<table border=\"1\" class=\"dataframe\">\n",
       "  <thead>\n",
       "    <tr style=\"text-align: right;\">\n",
       "      <th></th>\n",
       "      <th>&lt;!DOCTYPE html&gt;&lt;html&gt;&lt;head&gt;&lt;title&gt;Google Drive - Virus scan warning&lt;/title&gt;&lt;meta http-equiv=\"content-type\" content=\"text/html; charset=utf-8\"/&gt;&lt;style nonce=\"gZTIc4p4adfiwzaE_GFsvQ\"&gt;.goog-link-button{position:relative;color:#15c;text-decoration:underline;cursor:pointer}.goog-link-button-disabled{color:#ccc;text-decoration:none;cursor:default}body{color:#222;font:normal 13px/1.4 arial</th>\n",
       "      <th>sans-serif;margin:0}.grecaptcha-badge{visibility:hidden}.uc-main{padding-top:50px;text-align:center}#uc-dl-icon{display:inline-block;margin-top:16px;padding-right:1em;vertical-align:top}#uc-text{display:inline-block;max-width:68ex;text-align:left}.uc-error-caption</th>\n",
       "      <th>.uc-warning-caption{color:#222;font-size:16px}#uc-download-link{text-decoration:none}.uc-name-size a{color:#15c;text-decoration:none}.uc-name-size a:visited{color:#61c;text-decoration:none}.uc-name-size a:active{color:#d14836;text-decoration:none}.uc-footer{color:#777;font-size:11px;padding-bottom:5ex;padding-top:5ex;text-align:center}.uc-footer a{color:#15c}.uc-footer a:visited{color:#61c}.uc-footer a:active{color:#d14836}.uc-footer-divider{color:#ccc;width:100%}.goog-inline-block{position:relative;display:-moz-inline-box;display:inline-block}* html .goog-inline-block{display:inline}*:first-child+html .goog-inline-block{display:inline}sentinel{}&lt;/style&gt;&lt;link rel=\"icon\" href=\"//ssl.gstatic.com/docs/doclist/images/drive_2022q3_32dp.png\"/&gt;&lt;/head&gt;&lt;body&gt;&lt;div class=\"uc-main\"&gt;&lt;div id=\"uc-dl-icon\" class=\"image-container\"&gt;&lt;div class=\"drive-sprite-aux-download-file\"&gt;&lt;/div&gt;&lt;/div&gt;&lt;div id=\"uc-text\"&gt;&lt;p class=\"uc-warning-caption\"&gt;Google Drive can't scan this file for viruses.&lt;/p&gt;&lt;p class=\"uc-warning-subcaption\"&gt;&lt;span class=\"uc-name-size\"&gt;&lt;a href=\"/open?id=1780ufCJsTVaSzuZ2f5jzf17TGjyQMMkM\"&gt;data_p3.csv&lt;/a&gt; (175M)&lt;/span&gt; is too large for Google to scan for viruses. Would you still like to download this file?&lt;/p&gt;&lt;form id=\"download-form\" action=\"https://drive.usercontent.google.com/download\" method=\"get\"&gt;&lt;input type=\"submit\" id=\"uc-download-link\" class=\"goog-inline-block jfk-button jfk-button-action\" value=\"Download anyway\"/&gt;&lt;input type=\"hidden\" name=\"id\" value=\"1780ufCJsTVaSzuZ2f5jzf17TGjyQMMkM\"&gt;&lt;input type=\"hidden\" name=\"export\" value=\"download\"&gt;&lt;input type=\"hidden\" name=\"confirm\" value=\"t\"&gt;&lt;input type=\"hidden\" name=\"uuid\" value=\"3ae397aa-5423-49c7-b366-c911c9b0ddd3\"&gt;&lt;/form&gt;&lt;/div&gt;&lt;/div&gt;&lt;div class=\"uc-footer\"&gt;&lt;hr class=\"uc-footer-divider\"&gt;&lt;/div&gt;&lt;/body&gt;&lt;/html&gt;</th>\n",
       "    </tr>\n",
       "  </thead>\n",
       "  <tbody>\n",
       "  </tbody>\n",
       "</table>\n",
       "</div>"
      ],
      "text/plain": [
       "Empty DataFrame\n",
       "Columns: [<!DOCTYPE html><html><head><title>Google Drive - Virus scan warning</title><meta http-equiv=\"content-type\" content=\"text/html; charset=utf-8\"/><style nonce=\"gZTIc4p4adfiwzaE_GFsvQ\">.goog-link-button{position:relative;color:#15c;text-decoration:underline;cursor:pointer}.goog-link-button-disabled{color:#ccc;text-decoration:none;cursor:default}body{color:#222;font:normal 13px/1.4 arial, sans-serif;margin:0}.grecaptcha-badge{visibility:hidden}.uc-main{padding-top:50px;text-align:center}#uc-dl-icon{display:inline-block;margin-top:16px;padding-right:1em;vertical-align:top}#uc-text{display:inline-block;max-width:68ex;text-align:left}.uc-error-caption, .uc-warning-caption{color:#222;font-size:16px}#uc-download-link{text-decoration:none}.uc-name-size a{color:#15c;text-decoration:none}.uc-name-size a:visited{color:#61c;text-decoration:none}.uc-name-size a:active{color:#d14836;text-decoration:none}.uc-footer{color:#777;font-size:11px;padding-bottom:5ex;padding-top:5ex;text-align:center}.uc-footer a{color:#15c}.uc-footer a:visited{color:#61c}.uc-footer a:active{color:#d14836}.uc-footer-divider{color:#ccc;width:100%}.goog-inline-block{position:relative;display:-moz-inline-box;display:inline-block}* html .goog-inline-block{display:inline}*:first-child+html .goog-inline-block{display:inline}sentinel{}</style><link rel=\"icon\" href=\"//ssl.gstatic.com/docs/doclist/images/drive_2022q3_32dp.png\"/></head><body><div class=\"uc-main\"><div id=\"uc-dl-icon\" class=\"image-container\"><div class=\"drive-sprite-aux-download-file\"></div></div><div id=\"uc-text\"><p class=\"uc-warning-caption\">Google Drive can't scan this file for viruses.</p><p class=\"uc-warning-subcaption\"><span class=\"uc-name-size\"><a href=\"/open?id=1780ufCJsTVaSzuZ2f5jzf17TGjyQMMkM\">data_p3.csv</a> (175M)</span> is too large for Google to scan for viruses. Would you still like to download this file?</p><form id=\"download-form\" action=\"https://drive.usercontent.google.com/download\" method=\"get\"><input type=\"submit\" id=\"uc-download-link\" class=\"goog-inline-block jfk-button jfk-button-action\" value=\"Download anyway\"/><input type=\"hidden\" name=\"id\" value=\"1780ufCJsTVaSzuZ2f5jzf17TGjyQMMkM\"><input type=\"hidden\" name=\"export\" value=\"download\"><input type=\"hidden\" name=\"confirm\" value=\"t\"><input type=\"hidden\" name=\"uuid\" value=\"3ae397aa-5423-49c7-b366-c911c9b0ddd3\"></form></div></div><div class=\"uc-footer\"><hr class=\"uc-footer-divider\"></div></body></html>]\n",
       "Index: []"
      ]
     },
     "execution_count": 190,
     "metadata": {},
     "output_type": "execute_result"
    }
   ],
   "source": [
    "data2"
   ]
  },
  {
   "cell_type": "code",
   "execution_count": 82,
   "metadata": {
    "execution": {
     "iopub.execute_input": "2024-07-04T08:01:52.656497Z",
     "iopub.status.busy": "2024-07-04T08:01:52.655498Z",
     "iopub.status.idle": "2024-07-04T08:01:53.495686Z",
     "shell.execute_reply": "2024-07-04T08:01:53.494902Z",
     "shell.execute_reply.started": "2024-07-04T08:01:52.656458Z"
    },
    "tags": []
   },
   "outputs": [],
   "source": [
    "data0 = pd.read_csv('/home/jupyter/datasphere/project/IPRO/data_p0.csv')\n",
    "data1 = pd.read_csv('/home/jupyter/datasphere/project/IPRO/data_p1.csv')"
   ]
  },
  {
   "cell_type": "code",
   "execution_count": 77,
   "metadata": {
    "execution": {
     "iopub.execute_input": "2024-07-04T07:55:06.958885Z",
     "iopub.status.busy": "2024-07-04T07:55:06.957895Z",
     "iopub.status.idle": "2024-07-04T07:55:06.970636Z",
     "shell.execute_reply": "2024-07-04T07:55:06.969917Z",
     "shell.execute_reply.started": "2024-07-04T07:55:06.958854Z"
    }
   },
   "outputs": [
    {
     "data": {
      "text/plain": [
       "array([1, 2])"
      ]
     },
     "execution_count": 77,
     "metadata": {},
     "output_type": "execute_result"
    }
   ],
   "source": [
    "data0.event_time.unique()"
   ]
  },
  {
   "cell_type": "code",
   "execution_count": 233,
   "metadata": {
    "colab": {
     "base_uri": "https://localhost:8080/",
     "height": 143
    },
    "execution": {
     "iopub.execute_input": "2024-07-04T10:44:41.763084Z",
     "iopub.status.busy": "2024-07-04T10:44:41.762328Z",
     "iopub.status.idle": "2024-07-04T10:45:40.205467Z",
     "shell.execute_reply": "2024-07-04T10:45:40.204639Z",
     "shell.execute_reply.started": "2024-07-04T10:44:41.763052Z"
    },
    "id": "2aPZtPdqa5r3",
    "outputId": "7196640e-dbfc-4838-828d-bc9dca604cc1",
    "tags": []
   },
   "outputs": [
    {
     "data": {
      "text/html": [
       "<div>\n",
       "<style scoped>\n",
       "    .dataframe tbody tr th:only-of-type {\n",
       "        vertical-align: middle;\n",
       "    }\n",
       "\n",
       "    .dataframe tbody tr th {\n",
       "        vertical-align: top;\n",
       "    }\n",
       "\n",
       "    .dataframe thead th {\n",
       "        text-align: right;\n",
       "    }\n",
       "</style>\n",
       "<table border=\"1\" class=\"dataframe\">\n",
       "  <thead>\n",
       "    <tr style=\"text-align: right;\">\n",
       "      <th></th>\n",
       "      <th>mon</th>\n",
       "      <th>target_1</th>\n",
       "      <th>target_2</th>\n",
       "      <th>target_3</th>\n",
       "      <th>target_4</th>\n",
       "      <th>client_id</th>\n",
       "    </tr>\n",
       "  </thead>\n",
       "  <tbody>\n",
       "    <tr>\n",
       "      <th>0</th>\n",
       "      <td>2022-02-28</td>\n",
       "      <td>0</td>\n",
       "      <td>0</td>\n",
       "      <td>0</td>\n",
       "      <td>0</td>\n",
       "      <td>1d9df96a741dd1981f4cbc636f3ff24e46fd13f085d687...</td>\n",
       "    </tr>\n",
       "    <tr>\n",
       "      <th>1</th>\n",
       "      <td>2022-03-31</td>\n",
       "      <td>0</td>\n",
       "      <td>0</td>\n",
       "      <td>0</td>\n",
       "      <td>0</td>\n",
       "      <td>1d9df96a741dd1981f4cbc636f3ff24e46fd13f085d687...</td>\n",
       "    </tr>\n",
       "    <tr>\n",
       "      <th>2</th>\n",
       "      <td>2022-04-30</td>\n",
       "      <td>0</td>\n",
       "      <td>0</td>\n",
       "      <td>0</td>\n",
       "      <td>0</td>\n",
       "      <td>1d9df96a741dd1981f4cbc636f3ff24e46fd13f085d687...</td>\n",
       "    </tr>\n",
       "  </tbody>\n",
       "</table>\n",
       "</div>"
      ],
      "text/plain": [
       "         mon  ...                                          client_id\n",
       "0 2022-02-28  ...  1d9df96a741dd1981f4cbc636f3ff24e46fd13f085d687...\n",
       "1 2022-03-31  ...  1d9df96a741dd1981f4cbc636f3ff24e46fd13f085d687...\n",
       "2 2022-04-30  ...  1d9df96a741dd1981f4cbc636f3ff24e46fd13f085d687...\n",
       "\n",
       "[3 rows x 6 columns]"
      ]
     },
     "execution_count": 233,
     "metadata": {},
     "output_type": "execute_result"
    }
   ],
   "source": [
    "# Загружаем данные для обучения\n",
    "\n",
    "url_target_train='https://drive.google.com/file/d/13JlZKvEJuwjqpP7e3X_6ITwi4ynj_QGH/view?usp=drive_link'\n",
    "url_target_train='https://drive.google.com/uc?id=' + url_target_train.split('/')[-2]\n",
    "target_train = pd.read_parquet(url_target_train)\n",
    "\n",
    "urls_trx_train= ['https://drive.google.com/file/d/147YbBHqHq0NQT6beGyUcTA_fUe6PSw1A/view?usp=drive_link',\n",
    "                 'https://drive.google.com/file/d/14LQOw7ZotxnHcXs-lPrb-mnIrBLRv0jn/view?usp=drive_link',\n",
    "                 'https://drive.google.com/file/d/14Stkv5e0hE4a9Qv64VNVsOVAK8e74AE8/view?usp=drive_link',\n",
    "                 'https://drive.google.com/file/d/14ZPGMjCB9HgfY52azr1jF55RxWVvheyv/view?usp=drive_link',\n",
    "                 'https://drive.google.com/file/d/14nbGjN_WQTQZT_Il70dAB7canhLi2I1i/view?usp=drive_link',\n",
    "                 'https://drive.google.com/file/d/14ud0pyhnfezwQt64gKRvMMogzPjga6aZ/view?usp=drive_link',\n",
    "                 'https://drive.google.com/file/d/14vkvTEIFqD6L8B9cHakZ-uBKi3PGVG_V/view?usp=drive_link',\n",
    "                 'https://drive.google.com/file/d/15CF0WVCsB8QwzF0L2yIkA90sPLFZz6nz/view?usp=drive_link',\n",
    "                 'https://drive.google.com/file/d/15Dg5vhSPFqdDw9M4cx-vBb8WhvpZXuud/view?usp=drive_link',\n",
    "                 'https://drive.google.com/file/d/14AWMxN_7fhbUQasxzkd6S9ifgMUT3Gh7/view?usp=drive_link',\n",
    "                 'https://drive.google.com/file/d/14C6ZRA6omND3b7EWDlUGRkyM1Zjyp7dA/view?usp=drive_link',\n",
    "                 'https://drive.google.com/file/d/14SJWh7IGqZomzQkmNT2MUpEimuxwT08o/view?usp=drive_link']\n",
    "\n",
    "trx_train_list = []\n",
    "\n",
    "for i in urls_trx_train:\n",
    "    url_trx_train='https://drive.google.com/uc?id=' + i.split('/')[-2]\n",
    "    trx_train = pd.read_parquet(url_trx_train)\n",
    "    trx_train_list.append(trx_train)\n",
    "    \n",
    "trx_train = pd.concat(trx_train_list, axis = 0)\n",
    "\n",
    "target_train.mon = pd.to_datetime(target_train.mon)\n",
    "target_train.head(3)"
   ]
  },
  {
   "cell_type": "code",
   "execution_count": 45,
   "metadata": {
    "execution": {
     "iopub.execute_input": "2024-07-04T01:30:44.082042Z",
     "iopub.status.busy": "2024-07-04T01:30:44.081182Z",
     "iopub.status.idle": "2024-07-04T01:30:44.095269Z",
     "shell.execute_reply": "2024-07-04T01:30:44.094491Z",
     "shell.execute_reply.started": "2024-07-04T01:30:44.082016Z"
    },
    "tags": []
   },
   "outputs": [
    {
     "ename": "SyntaxError",
     "evalue": "invalid decimal literal (2027548735.py, line 14)",
     "output_type": "error",
     "traceback": [
      "\u001b[0;36m  File \u001b[0;32m\"/tmp/ipykernel_2346/2027548735.py\"\u001b[0;36m, line \u001b[0;32m14\u001b[0m\n\u001b[0;31m    geo_train_list = [pd.read_parquet(https://drive.google.com/uc?id=11lfx9zNEt3bpRi9L-Ti7u3Q7Uur_m4mh')]\u001b[0m\n\u001b[0m                                                                      ^\u001b[0m\n\u001b[0;31mSyntaxError\u001b[0m\u001b[0;31m:\u001b[0m invalid decimal literal\n"
     ]
    }
   ],
   "source": [
    "urls_geo_train= ['https://drive.google.com/file/d/11sKllZnS4MTuP1louD5rorkfz8dFt3_t/view?usp=drive_link',\n",
    "                 # '/home/jupyter/datasphere/project/IPRO/7ccfd013a2394bb9b8561c023d26989a-0.parquet',\n",
    "                 'https://drive.google.com/file/d/127njhOtZiiR1aIHLV_PEgnC4jAoMmU_j/view?usp=drive_link',\n",
    "                 # 'https://drive.google.com/file/d/12DNlvH-XpOtpGEHo_d9wyh6DKtFxeKNH/view?usp=drive_link',\n",
    "                 # 'https://drive.google.com/file/d/12IRpx8q7j7VHxxjQeD8OfM2VV1Kl_ynE/view?usp=drive_link',\n",
    "                 # 'https://drive.google.com/file/d/12U2e-6nl-U9jaw-mdWdab23qA90Hgts7/view?usp=drive_link',\n",
    "                 # 'https://drive.google.com/file/d/12c1QcZinYL--X8BQ85Pw5nPKaIJPOa7Z/view?usp=drive_link',\n",
    "                 # 'https://drive.google.com/file/d/12s-lkpN2gik40KzjxzTegmfpxsA_cpm9/view?usp=drive_link',\n",
    "                 # 'https://drive.google.com/file/d/13Af5pW2d5mKLgdUzat3nR6MpfEU86wZi/view?usp=drive_link',\n",
    "                 # 'https://drive.google.com/file/d/1204vZFTeT9OX-0gAL8ffoXof3ogC887A/view?usp=drive_link',\n",
    "                 # 'https://drive.google.com/file/d/120bjxEIZf3Jpq6JTed_tlv-nCTURQXra/view?usp=drive_link',\n",
    "                 # 'https://drive.google.com/file/d/1255LGZLnsCdYCv0HTYJHKGSuk6xSwh0W/view?usp=drive_link']\n",
    "\n",
    "geo_train_list = [pd.read_parquet(https://drive.google.com/uc?id=11lfx9zNEt3bpRi9L-Ti7u3Q7Uur_m4mh')]\n",
    "\n",
    "for i in urls_geo_train:\n",
    "    url_geo_train='https://drive.google.com/uc?id=' + i.split('/')[-2]\n",
    "    geo_train = pd.read_parquet(url_geo_train)\n",
    "    geo_train_list.append(geo_train)\n",
    "    \n",
    "geo_train = pd.concat(geo_train_list, axis = 0)"
   ]
  },
  {
   "cell_type": "code",
   "execution_count": 5,
   "metadata": {
    "colab": {
     "base_uri": "https://localhost:8080/",
     "height": 213
    },
    "execution": {
     "iopub.execute_input": "2024-07-04T00:10:19.487556Z",
     "iopub.status.busy": "2024-07-04T00:10:19.486365Z",
     "iopub.status.idle": "2024-07-04T00:10:19.518130Z",
     "shell.execute_reply": "2024-07-04T00:10:19.517427Z",
     "shell.execute_reply.started": "2024-07-04T00:10:19.487519Z"
    },
    "id": "_wp0Czcoa9A7",
    "outputId": "dd8089cd-c1de-408f-eb36-04dcf9671c95",
    "tags": []
   },
   "outputs": [
    {
     "data": {
      "text/html": [
       "<div>\n",
       "<style scoped>\n",
       "    .dataframe tbody tr th:only-of-type {\n",
       "        vertical-align: middle;\n",
       "    }\n",
       "\n",
       "    .dataframe tbody tr th {\n",
       "        vertical-align: top;\n",
       "    }\n",
       "\n",
       "    .dataframe thead th {\n",
       "        text-align: right;\n",
       "    }\n",
       "</style>\n",
       "<table border=\"1\" class=\"dataframe\">\n",
       "  <thead>\n",
       "    <tr style=\"text-align: right;\">\n",
       "      <th></th>\n",
       "      <th>event_time</th>\n",
       "      <th>amount</th>\n",
       "      <th>client_id</th>\n",
       "      <th>event_type</th>\n",
       "      <th>event_subtype</th>\n",
       "      <th>currency</th>\n",
       "      <th>src_type11</th>\n",
       "      <th>src_type12</th>\n",
       "      <th>dst_type11</th>\n",
       "      <th>dst_type12</th>\n",
       "      <th>src_type21</th>\n",
       "      <th>src_type22</th>\n",
       "      <th>src_type31</th>\n",
       "      <th>src_type32</th>\n",
       "    </tr>\n",
       "  </thead>\n",
       "  <tbody>\n",
       "    <tr>\n",
       "      <th>0</th>\n",
       "      <td>2022-01-18 19:32:31.912404</td>\n",
       "      <td>1.222030</td>\n",
       "      <td>522256f58adeaf13fbf098859fe5627f663ab586cb71e7...</td>\n",
       "      <td>40</td>\n",
       "      <td>51</td>\n",
       "      <td>11.0</td>\n",
       "      <td>72.0</td>\n",
       "      <td>189.0</td>\n",
       "      <td>433.0</td>\n",
       "      <td>10049.0</td>\n",
       "      <td>29715.0</td>\n",
       "      <td>10.0</td>\n",
       "      <td>814.0</td>\n",
       "      <td>26.0</td>\n",
       "    </tr>\n",
       "    <tr>\n",
       "      <th>1</th>\n",
       "      <td>2022-01-16 09:51:29.109043</td>\n",
       "      <td>7963.970703</td>\n",
       "      <td>522256f58adeaf13fbf098859fe5627f663ab586cb71e7...</td>\n",
       "      <td>40</td>\n",
       "      <td>51</td>\n",
       "      <td>11.0</td>\n",
       "      <td>72.0</td>\n",
       "      <td>189.0</td>\n",
       "      <td>433.0</td>\n",
       "      <td>10049.0</td>\n",
       "      <td>29715.0</td>\n",
       "      <td>10.0</td>\n",
       "      <td>814.0</td>\n",
       "      <td>26.0</td>\n",
       "    </tr>\n",
       "    <tr>\n",
       "      <th>2</th>\n",
       "      <td>2022-01-07 12:05:34.259740</td>\n",
       "      <td>363.814209</td>\n",
       "      <td>522256f58adeaf13fbf098859fe5627f663ab586cb71e7...</td>\n",
       "      <td>35</td>\n",
       "      <td>5</td>\n",
       "      <td>11.0</td>\n",
       "      <td>19.0</td>\n",
       "      <td>344.0</td>\n",
       "      <td>1121.0</td>\n",
       "      <td>8945.0</td>\n",
       "      <td>29715.0</td>\n",
       "      <td>10.0</td>\n",
       "      <td>814.0</td>\n",
       "      <td>26.0</td>\n",
       "    </tr>\n",
       "  </tbody>\n",
       "</table>\n",
       "</div>"
      ],
      "text/plain": [
       "                  event_time       amount  ... src_type31  src_type32\n",
       "0 2022-01-18 19:32:31.912404     1.222030  ...      814.0        26.0\n",
       "1 2022-01-16 09:51:29.109043  7963.970703  ...      814.0        26.0\n",
       "2 2022-01-07 12:05:34.259740   363.814209  ...      814.0        26.0\n",
       "\n",
       "[3 rows x 14 columns]"
      ]
     },
     "execution_count": 5,
     "metadata": {},
     "output_type": "execute_result"
    }
   ],
   "source": [
    "trx_train.head(3)"
   ]
  },
  {
   "cell_type": "code",
   "execution_count": 6,
   "metadata": {
    "execution": {
     "iopub.execute_input": "2024-07-04T00:10:19.520382Z",
     "iopub.status.busy": "2024-07-04T00:10:19.519619Z",
     "iopub.status.idle": "2024-07-04T00:10:19.741107Z",
     "shell.execute_reply": "2024-07-04T00:10:19.740397Z",
     "shell.execute_reply.started": "2024-07-04T00:10:19.520354Z"
    },
    "id": "8NkSMLMHa-q6",
    "tags": []
   },
   "outputs": [
    {
     "data": {
      "text/plain": [
       "170778"
      ]
     },
     "execution_count": 6,
     "metadata": {},
     "output_type": "execute_result"
    }
   ],
   "source": [
    "len(target_train.client_id.unique())"
   ]
  },
  {
   "cell_type": "code",
   "execution_count": 235,
   "metadata": {
    "execution": {
     "iopub.execute_input": "2024-07-04T10:46:50.094233Z",
     "iopub.status.busy": "2024-07-04T10:46:50.093177Z",
     "iopub.status.idle": "2024-07-04T10:48:38.213519Z",
     "shell.execute_reply": "2024-07-04T10:48:38.212143Z",
     "shell.execute_reply.started": "2024-07-04T10:46:50.094198Z"
    },
    "id": "0oJ6jztCbAGr",
    "tags": []
   },
   "outputs": [],
   "source": [
    "# Для таргета каждого месяца делаем агрегаты объема транзакций за предшествующий доступные период\n",
    "\n",
    "def amount_agregate(tg, trx_timeseries):\n",
    "\n",
    "    feats = []\n",
    "    for mon in tg.mon.unique():\n",
    "        trx = trx_timeseries[trx_timeseries.event_time < mon]\n",
    "        feats_mon = trx.drop('event_time',axis = 1).groupby('client_id').agg(['sum', 'max', 'min', 'mean']).reset_index()\n",
    "        feats_mon['mon'] = mon\n",
    "        feats.append(feats_mon)\n",
    "\n",
    "    feats = pd.concat(feats, axis=0)\n",
    "    return feats\n",
    "\n",
    "feats = amount_agregate(target_train, trx_train)"
   ]
  },
  {
   "cell_type": "code",
   "execution_count": null,
   "metadata": {},
   "outputs": [],
   "source": [
    "# Для таргета каждого месяца делаем агрегаты объема транзакций за предшествующий доступные период\n",
    "\n",
    "def amount_agregate(tg, trx_timeseries):\n",
    "\n",
    "    feats = []\n",
    "    for mon in tg.mon.unique():\n",
    "        trx = trx_timeseries[trx_timeseries.event_time < mon]\n",
    "        feats_mon = trx.groupby('client_id').amount.agg(['sum', 'max', 'min', 'mean']).reset_index()\n",
    "        feats_mon['mon'] = mon\n",
    "        feats.append(feats_mon)\n",
    "\n",
    "    feats = pd.concat(feats, axis=0)\n",
    "    return feats\n",
    "\n",
    "feats = amount_agregate(target_train, trx_train)"
   ]
  },
  {
   "cell_type": "code",
   "execution_count": 58,
   "metadata": {
    "execution": {
     "iopub.execute_input": "2024-07-04T03:54:31.015188Z",
     "iopub.status.busy": "2024-07-04T03:54:31.014174Z",
     "iopub.status.idle": "2024-07-04T03:54:31.147158Z",
     "shell.execute_reply": "2024-07-04T03:54:31.146428Z",
     "shell.execute_reply.started": "2024-07-04T03:54:31.015152Z"
    }
   },
   "outputs": [
    {
     "data": {
      "text/plain": [
       "array([40, 35, 52,  5, 38, 56, 25, 54, 30, 42, 50, 37,  7, 20, 10, 45, 51,\n",
       "       31, 41, 15,  4, 47, 16, 44, 55,  9, 23, 48, 36, 53, 32, 27, 46,  8,\n",
       "       49, 24, 22, 12, 34, 19, 14, 43, 29,  3, 17, 33, 26,  6, 21,  1, 13,\n",
       "        2, 39, 11, 18], dtype=int32)"
      ]
     },
     "execution_count": 58,
     "metadata": {},
     "output_type": "execute_result"
    }
   ],
   "source": [
    "trx_train.event_type.unique()"
   ]
  },
  {
   "cell_type": "code",
   "execution_count": 62,
   "metadata": {
    "execution": {
     "iopub.execute_input": "2024-07-04T04:00:00.328669Z",
     "iopub.status.busy": "2024-07-04T04:00:00.327797Z",
     "iopub.status.idle": "2024-07-04T04:00:04.219210Z",
     "shell.execute_reply": "2024-07-04T04:00:04.218363Z",
     "shell.execute_reply.started": "2024-07-04T04:00:00.328625Z"
    },
    "tags": []
   },
   "outputs": [
    {
     "name": "stderr",
     "output_type": "stream",
     "text": [
      "/tmp/ipykernel_2346/1679465567.py:1: FutureWarning: In a future version of pandas, a length 1 tuple will be returned when iterating over a groupby with a grouper equal to a list of length 1. Don't supply a list with a single grouper to avoid this warning.\n",
      "  for i in trx_train.groupby(['event_type']):\n"
     ]
    },
    {
     "name": "stdout",
     "output_type": "stream",
     "text": [
      "(1,                        event_time        amount  ... src_type31  src_type32\n",
      "98806  2022-01-02 10:08:43.416832  2.255491e+02  ...     1214.0         4.0\n",
      "117684 2022-01-08 16:40:58.265742  1.360844e+04  ...      724.0        70.0\n",
      "139755 2022-01-15 15:13:15.366727  3.853955e+05  ...     1892.0        51.0\n",
      "251943 2022-01-07 08:28:28.607817  2.647448e+05  ...     1683.0        40.0\n",
      "315141 2022-01-21 06:49:36.237134  1.635907e+05  ...      724.0        70.0\n",
      "...                           ...           ...  ...        ...         ...\n",
      "72573  2022-12-03 04:09:42.193909  5.030766e+03  ...      148.0        67.0\n",
      "85388  2022-12-04 13:39:49.144579  1.096664e+07  ...     1506.0        86.0\n",
      "209726 2022-12-06 12:29:04.197354  3.652158e+04  ...      724.0        70.0\n",
      "286966 2022-12-02 07:44:57.170975  6.387719e+04  ...     1810.0        51.0\n",
      "293712 2022-12-06 12:56:05.142592  4.201387e+05  ...     2240.0        74.0\n",
      "\n",
      "[379 rows x 14 columns])\n"
     ]
    }
   ],
   "source": [
    "for i in trx_train.groupby(['event_type']):\n",
    "    print(i)\n",
    "    break"
   ]
  },
  {
   "cell_type": "code",
   "execution_count": null,
   "metadata": {},
   "outputs": [],
   "source": [
    "# Для таргета каждого месяца делаем агрегаты объема транзакций за предшествующий доступные период\n",
    "\n",
    "def mode_agregate(tg, trx_timeseries):\n",
    "\n",
    "    feats = []\n",
    "    for mon in tg.mon.unique():\n",
    "        trx = trx_timeseries[trx_timeseries.event_time < mon]\n",
    "        feats_mon = trx.groupby('client_id').amount.agg(['sum', 'max', 'min', 'mean']).reset_index()\n",
    "        feats_mon['mon'] = mon\n",
    "        feats.append(feats_mon)\n",
    "\n",
    "    feats = pd.concat(feats, axis=0)\n",
    "    return feats\n",
    "\n",
    "feats = amount_agregate(target_train, trx_train)"
   ]
  },
  {
   "cell_type": "code",
   "execution_count": 8,
   "metadata": {
    "colab": {
     "base_uri": "https://localhost:8080/",
     "height": 142
    },
    "execution": {
     "iopub.execute_input": "2024-07-04T00:11:00.880313Z",
     "iopub.status.busy": "2024-07-04T00:11:00.879378Z",
     "iopub.status.idle": "2024-07-04T00:11:00.949547Z",
     "shell.execute_reply": "2024-07-04T00:11:00.948749Z",
     "shell.execute_reply.started": "2024-07-04T00:11:00.880277Z"
    },
    "id": "CG4bJ-YflIk0",
    "outputId": "598b9581-0277-43bb-baf8-33b9a96b17fd",
    "tags": []
   },
   "outputs": [
    {
     "data": {
      "text/html": [
       "<div>\n",
       "<style scoped>\n",
       "    .dataframe tbody tr th:only-of-type {\n",
       "        vertical-align: middle;\n",
       "    }\n",
       "\n",
       "    .dataframe tbody tr th {\n",
       "        vertical-align: top;\n",
       "    }\n",
       "\n",
       "    .dataframe thead th {\n",
       "        text-align: right;\n",
       "    }\n",
       "</style>\n",
       "<table border=\"1\" class=\"dataframe\">\n",
       "  <thead>\n",
       "    <tr style=\"text-align: right;\">\n",
       "      <th></th>\n",
       "      <th>client_id</th>\n",
       "      <th>sum</th>\n",
       "      <th>max</th>\n",
       "      <th>min</th>\n",
       "      <th>mean</th>\n",
       "      <th>mon</th>\n",
       "    </tr>\n",
       "  </thead>\n",
       "  <tbody>\n",
       "    <tr>\n",
       "      <th>0</th>\n",
       "      <td>00021a8c0dd1ffba57d5d690e1f97f11e7a771d1cef5e7...</td>\n",
       "      <td>4.806070e+06</td>\n",
       "      <td>6.098757e+05</td>\n",
       "      <td>18.001846</td>\n",
       "      <td>5.933419e+04</td>\n",
       "      <td>2022-02-28</td>\n",
       "    </tr>\n",
       "    <tr>\n",
       "      <th>1</th>\n",
       "      <td>0002205f38c1be4264f87eb0d663941a003dc22136d2da...</td>\n",
       "      <td>1.934420e+06</td>\n",
       "      <td>1.344636e+05</td>\n",
       "      <td>5.123234</td>\n",
       "      <td>1.696860e+04</td>\n",
       "      <td>2022-02-28</td>\n",
       "    </tr>\n",
       "    <tr>\n",
       "      <th>2</th>\n",
       "      <td>0002f001b84dcf00b093959ea95c72918b8a2e3ca5f226...</td>\n",
       "      <td>2.864301e+08</td>\n",
       "      <td>7.001627e+07</td>\n",
       "      <td>13.087203</td>\n",
       "      <td>2.309920e+06</td>\n",
       "      <td>2022-02-28</td>\n",
       "    </tr>\n",
       "  </tbody>\n",
       "</table>\n",
       "</div>"
      ],
      "text/plain": [
       "                                           client_id  ...        mon\n",
       "0  00021a8c0dd1ffba57d5d690e1f97f11e7a771d1cef5e7...  ... 2022-02-28\n",
       "1  0002205f38c1be4264f87eb0d663941a003dc22136d2da...  ... 2022-02-28\n",
       "2  0002f001b84dcf00b093959ea95c72918b8a2e3ca5f226...  ... 2022-02-28\n",
       "\n",
       "[3 rows x 6 columns]"
      ]
     },
     "execution_count": 8,
     "metadata": {},
     "output_type": "execute_result"
    }
   ],
   "source": [
    "feats.head(3)"
   ]
  },
  {
   "cell_type": "code",
   "execution_count": 97,
   "metadata": {
    "execution": {
     "iopub.execute_input": "2024-07-04T08:13:59.851179Z",
     "iopub.status.busy": "2024-07-04T08:13:59.850400Z",
     "iopub.status.idle": "2024-07-04T08:13:59.864696Z",
     "shell.execute_reply": "2024-07-04T08:13:59.864090Z",
     "shell.execute_reply.started": "2024-07-04T08:13:59.851153Z"
    },
    "tags": []
   },
   "outputs": [
    {
     "data": {
      "text/plain": [
       "(462,)"
      ]
     },
     "execution_count": 97,
     "metadata": {},
     "output_type": "execute_result"
    }
   ],
   "source": [
    "data1[data1.event_time == 2]['client_id'].unique().shape"
   ]
  },
  {
   "cell_type": "code",
   "execution_count": 131,
   "metadata": {
    "execution": {
     "iopub.execute_input": "2024-07-04T08:34:37.343674Z",
     "iopub.status.busy": "2024-07-04T08:34:37.342822Z",
     "iopub.status.idle": "2024-07-04T08:34:40.838952Z",
     "shell.execute_reply": "2024-07-04T08:34:40.838197Z",
     "shell.execute_reply.started": "2024-07-04T08:34:37.343648Z"
    },
    "tags": []
   },
   "outputs": [],
   "source": [
    "small_train = target_train.copy()\n",
    "small_train['month'] = small_train.mon.apply(lambda x: x.month)\n",
    "small_train = small_train[small_train.month <=2]"
   ]
  },
  {
   "cell_type": "code",
   "execution_count": 132,
   "metadata": {
    "execution": {
     "iopub.execute_input": "2024-07-04T08:34:40.840939Z",
     "iopub.status.busy": "2024-07-04T08:34:40.840186Z",
     "iopub.status.idle": "2024-07-04T08:34:40.858122Z",
     "shell.execute_reply": "2024-07-04T08:34:40.857455Z",
     "shell.execute_reply.started": "2024-07-04T08:34:40.840912Z"
    },
    "tags": []
   },
   "outputs": [],
   "source": [
    "# data_full = pd.concat([data0,data1], axis = 0)\n",
    "# data_full['month'] = data_full.event_time"
   ]
  },
  {
   "cell_type": "code",
   "execution_count": 145,
   "metadata": {
    "execution": {
     "iopub.execute_input": "2024-07-04T08:39:23.949184Z",
     "iopub.status.busy": "2024-07-04T08:39:23.948264Z",
     "iopub.status.idle": "2024-07-04T08:39:23.971540Z",
     "shell.execute_reply": "2024-07-04T08:39:23.970911Z",
     "shell.execute_reply.started": "2024-07-04T08:39:23.949156Z"
    },
    "tags": []
   },
   "outputs": [
    {
     "data": {
      "text/plain": [
       "(1708, 788)"
      ]
     },
     "execution_count": 145,
     "metadata": {},
     "output_type": "execute_result"
    }
   ],
   "source": [
    "data_full = pd.concat([data0,data1], axis = 0)\n",
    "data_full = data_full[data_full.event_time <= 2]\n",
    "data_full['mon'] = data_full.event_time\n",
    "data_full.shape"
   ]
  },
  {
   "cell_type": "code",
   "execution_count": 151,
   "metadata": {
    "execution": {
     "iopub.execute_input": "2024-07-04T08:42:50.377450Z",
     "iopub.status.busy": "2024-07-04T08:42:50.376591Z",
     "iopub.status.idle": "2024-07-04T08:42:50.408814Z",
     "shell.execute_reply": "2024-07-04T08:42:50.407996Z",
     "shell.execute_reply.started": "2024-07-04T08:42:50.377420Z"
    },
    "tags": []
   },
   "outputs": [],
   "source": [
    "# Делим на тренировочную и валидационную подвыборки small_train\n",
    "\n",
    "df_train = data_full.set_index(['mon', 'client_id'])\n",
    "\n",
    "ids = list(df_train.index.get_level_values('client_id'))[-300:]\n",
    "df_val = df_train[df_train.index.get_level_values('client_id').isin(ids)]\n",
    "df_fit = df_train[~df_train.index.get_level_values('client_id').isin(ids)]"
   ]
  },
  {
   "cell_type": "code",
   "execution_count": 236,
   "metadata": {
    "execution": {
     "iopub.execute_input": "2024-07-04T10:49:00.459188Z",
     "iopub.status.busy": "2024-07-04T10:49:00.457675Z",
     "iopub.status.idle": "2024-07-04T10:49:07.712944Z",
     "shell.execute_reply": "2024-07-04T10:49:07.711738Z",
     "shell.execute_reply.started": "2024-07-04T10:49:00.459134Z"
    },
    "id": "75FoFRMbbEJL",
    "tags": []
   },
   "outputs": [
    {
     "name": "stderr",
     "output_type": "stream",
     "text": [
      "/tmp/ipykernel_2346/647044129.py:3: FutureWarning: merging between different levels is deprecated and will be removed in a future version. (1 levels on the left, 2 on the right)\n",
      "  df_train = target_train.sample(frac=1, random_state=RS).set_index(['mon', 'client_id'])\\\n"
     ]
    }
   ],
   "source": [
    "# Делим на тренировочную и валидационную подвыборки\n",
    "\n",
    "df_train = target_train.sample(frac=1, random_state=RS).set_index(['mon', 'client_id'])\\\n",
    ".join(feats.set_index(['mon', 'client_id']), how='left')\n",
    "\n",
    "ids = list(df_train.index.get_level_values('client_id'))[:10000]\n",
    "df_val = df_train[df_train.index.get_level_values('client_id').isin(ids)]\n",
    "df_fit = df_train[~df_train.index.get_level_values('client_id').isin(ids)]"
   ]
  },
  {
   "cell_type": "code",
   "execution_count": 153,
   "metadata": {
    "colab": {
     "base_uri": "https://localhost:8080/",
     "height": 614
    },
    "execution": {
     "iopub.execute_input": "2024-07-04T08:42:51.261999Z",
     "iopub.status.busy": "2024-07-04T08:42:51.261076Z",
     "iopub.status.idle": "2024-07-04T08:42:51.302934Z",
     "shell.execute_reply": "2024-07-04T08:42:51.302156Z",
     "shell.execute_reply.started": "2024-07-04T08:42:51.261972Z"
    },
    "id": "W4eoyefNeNLv",
    "outputId": "929207a4-59da-4b21-dd93-3d772620ef5d",
    "tags": []
   },
   "outputs": [],
   "source": [
    "df_fit = df_fit.drop(['Unnamed: 0' , 'event_time'], axis = 1)\n",
    "df_val = df_val.drop(['Unnamed: 0' , 'event_time'], axis = 1)"
   ]
  },
  {
   "cell_type": "code",
   "execution_count": 167,
   "metadata": {
    "execution": {
     "iopub.execute_input": "2024-07-04T08:47:35.942702Z",
     "iopub.status.busy": "2024-07-04T08:47:35.941756Z",
     "iopub.status.idle": "2024-07-04T08:47:35.958523Z",
     "shell.execute_reply": "2024-07-04T08:47:35.957823Z",
     "shell.execute_reply.started": "2024-07-04T08:47:35.942671Z"
    },
    "tags": []
   },
   "outputs": [],
   "source": [
    "df_fit = df_fit[~df_fit.target_1.isna()]\n",
    "df_val = df_val[~df_val.target_1.isna()]"
   ]
  },
  {
   "cell_type": "markdown",
   "metadata": {
    "id": "-5uIsLiUb-jj"
   },
   "source": [
    "# LightGBM"
   ]
  },
  {
   "cell_type": "code",
   "execution_count": 237,
   "metadata": {
    "colab": {
     "base_uri": "https://localhost:8080/"
    },
    "execution": {
     "iopub.execute_input": "2024-07-04T10:49:15.741223Z",
     "iopub.status.busy": "2024-07-04T10:49:15.739770Z",
     "iopub.status.idle": "2024-07-04T10:49:17.644934Z",
     "shell.execute_reply": "2024-07-04T10:49:17.643333Z",
     "shell.execute_reply.started": "2024-07-04T10:49:15.741169Z"
    },
    "id": "ZLp6VJJtbG_v",
    "outputId": "f93e4840-20c3-4853-e4f3-1a4a0137d5f6",
    "tags": []
   },
   "outputs": [
    {
     "name": "stderr",
     "output_type": "stream",
     "text": [
      "[LightGBM] [Fatal] Do not support special JSON characters in feature name.\n"
     ]
    },
    {
     "ename": "LightGBMError",
     "evalue": "Do not support special JSON characters in feature name.",
     "output_type": "error",
     "traceback": [
      "\u001b[0;31m---------------------------------------------------------------------------\u001b[0m",
      "\u001b[0;31mLightGBMError\u001b[0m                             Traceback (most recent call last)",
      "\u001b[0;32m/tmp/ipykernel_2346/375297241.py\u001b[0m in \u001b[0;36m<cell line: 8>\u001b[0;34m()\u001b[0m\n\u001b[1;32m     16\u001b[0m     \u001b[0mvds\u001b[0m \u001b[0;34m=\u001b[0m \u001b[0mDataset\u001b[0m\u001b[0;34m(\u001b[0m\u001b[0mXv\u001b[0m\u001b[0;34m,\u001b[0m \u001b[0mtgv\u001b[0m\u001b[0;34m)\u001b[0m\u001b[0;34m\u001b[0m\u001b[0;34m\u001b[0m\u001b[0m\n\u001b[1;32m     17\u001b[0m \u001b[0;34m\u001b[0m\u001b[0m\n\u001b[0;32m---> 18\u001b[0;31m     lgbm = lightgbm.train(params=params, num_boost_round=1000, train_set=trds, valid_sets=[vds],\n\u001b[0m\u001b[1;32m     19\u001b[0m                           callbacks=[lightgbm.early_stopping(stopping_rounds=5)])\n\u001b[1;32m     20\u001b[0m \u001b[0;34m\u001b[0m\u001b[0m\n",
      "\u001b[0;32m/usr/local/lib/python3.10/dist-packages/lightgbm/engine.py\u001b[0m in \u001b[0;36mtrain\u001b[0;34m(params, train_set, num_boost_round, valid_sets, valid_names, fobj, feval, init_model, feature_name, categorical_feature, early_stopping_rounds, evals_result, verbose_eval, learning_rates, keep_training_booster, callbacks)\u001b[0m\n\u001b[1;32m    269\u001b[0m     \u001b[0;31m# construct booster\u001b[0m\u001b[0;34m\u001b[0m\u001b[0;34m\u001b[0m\u001b[0m\n\u001b[1;32m    270\u001b[0m     \u001b[0;32mtry\u001b[0m\u001b[0;34m:\u001b[0m\u001b[0;34m\u001b[0m\u001b[0;34m\u001b[0m\u001b[0m\n\u001b[0;32m--> 271\u001b[0;31m         \u001b[0mbooster\u001b[0m \u001b[0;34m=\u001b[0m \u001b[0mBooster\u001b[0m\u001b[0;34m(\u001b[0m\u001b[0mparams\u001b[0m\u001b[0;34m=\u001b[0m\u001b[0mparams\u001b[0m\u001b[0;34m,\u001b[0m \u001b[0mtrain_set\u001b[0m\u001b[0;34m=\u001b[0m\u001b[0mtrain_set\u001b[0m\u001b[0;34m)\u001b[0m\u001b[0;34m\u001b[0m\u001b[0;34m\u001b[0m\u001b[0m\n\u001b[0m\u001b[1;32m    272\u001b[0m         \u001b[0;32mif\u001b[0m \u001b[0mis_valid_contain_train\u001b[0m\u001b[0;34m:\u001b[0m\u001b[0;34m\u001b[0m\u001b[0;34m\u001b[0m\u001b[0m\n\u001b[1;32m    273\u001b[0m             \u001b[0mbooster\u001b[0m\u001b[0;34m.\u001b[0m\u001b[0mset_train_data_name\u001b[0m\u001b[0;34m(\u001b[0m\u001b[0mtrain_data_name\u001b[0m\u001b[0;34m)\u001b[0m\u001b[0;34m\u001b[0m\u001b[0;34m\u001b[0m\u001b[0m\n",
      "\u001b[0;32m/usr/local/lib/python3.10/dist-packages/lightgbm/basic.py\u001b[0m in \u001b[0;36m__init__\u001b[0;34m(self, params, train_set, model_file, model_str, silent)\u001b[0m\n\u001b[1;32m   2603\u001b[0m                 )\n\u001b[1;32m   2604\u001b[0m             \u001b[0;31m# construct booster object\u001b[0m\u001b[0;34m\u001b[0m\u001b[0;34m\u001b[0m\u001b[0m\n\u001b[0;32m-> 2605\u001b[0;31m             \u001b[0mtrain_set\u001b[0m\u001b[0;34m.\u001b[0m\u001b[0mconstruct\u001b[0m\u001b[0;34m(\u001b[0m\u001b[0;34m)\u001b[0m\u001b[0;34m\u001b[0m\u001b[0;34m\u001b[0m\u001b[0m\n\u001b[0m\u001b[1;32m   2606\u001b[0m             \u001b[0;31m# copy the parameters from train_set\u001b[0m\u001b[0;34m\u001b[0m\u001b[0;34m\u001b[0m\u001b[0m\n\u001b[1;32m   2607\u001b[0m             \u001b[0mparams\u001b[0m\u001b[0;34m.\u001b[0m\u001b[0mupdate\u001b[0m\u001b[0;34m(\u001b[0m\u001b[0mtrain_set\u001b[0m\u001b[0;34m.\u001b[0m\u001b[0mget_params\u001b[0m\u001b[0;34m(\u001b[0m\u001b[0;34m)\u001b[0m\u001b[0;34m)\u001b[0m\u001b[0;34m\u001b[0m\u001b[0;34m\u001b[0m\u001b[0m\n",
      "\u001b[0;32m/usr/local/lib/python3.10/dist-packages/lightgbm/basic.py\u001b[0m in \u001b[0;36mconstruct\u001b[0;34m(self)\u001b[0m\n\u001b[1;32m   1813\u001b[0m             \u001b[0;32melse\u001b[0m\u001b[0;34m:\u001b[0m\u001b[0;34m\u001b[0m\u001b[0;34m\u001b[0m\u001b[0m\n\u001b[1;32m   1814\u001b[0m                 \u001b[0;31m# create train\u001b[0m\u001b[0;34m\u001b[0m\u001b[0;34m\u001b[0m\u001b[0m\n\u001b[0;32m-> 1815\u001b[0;31m                 self._lazy_init(self.data, label=self.label,\n\u001b[0m\u001b[1;32m   1816\u001b[0m                                 \u001b[0mweight\u001b[0m\u001b[0;34m=\u001b[0m\u001b[0mself\u001b[0m\u001b[0;34m.\u001b[0m\u001b[0mweight\u001b[0m\u001b[0;34m,\u001b[0m \u001b[0mgroup\u001b[0m\u001b[0;34m=\u001b[0m\u001b[0mself\u001b[0m\u001b[0;34m.\u001b[0m\u001b[0mgroup\u001b[0m\u001b[0;34m,\u001b[0m\u001b[0;34m\u001b[0m\u001b[0;34m\u001b[0m\u001b[0m\n\u001b[1;32m   1817\u001b[0m                                 \u001b[0minit_score\u001b[0m\u001b[0;34m=\u001b[0m\u001b[0mself\u001b[0m\u001b[0;34m.\u001b[0m\u001b[0minit_score\u001b[0m\u001b[0;34m,\u001b[0m \u001b[0mpredictor\u001b[0m\u001b[0;34m=\u001b[0m\u001b[0mself\u001b[0m\u001b[0;34m.\u001b[0m\u001b[0m_predictor\u001b[0m\u001b[0;34m,\u001b[0m\u001b[0;34m\u001b[0m\u001b[0;34m\u001b[0m\u001b[0m\n",
      "\u001b[0;32m/usr/local/lib/python3.10/dist-packages/lightgbm/basic.py\u001b[0m in \u001b[0;36m_lazy_init\u001b[0;34m(self, data, label, reference, weight, group, init_score, predictor, silent, feature_name, categorical_feature, params)\u001b[0m\n\u001b[1;32m   1571\u001b[0m             \u001b[0;32mraise\u001b[0m \u001b[0mTypeError\u001b[0m\u001b[0;34m(\u001b[0m\u001b[0;34mf'Wrong predictor type {type(predictor).__name__}'\u001b[0m\u001b[0;34m)\u001b[0m\u001b[0;34m\u001b[0m\u001b[0;34m\u001b[0m\u001b[0m\n\u001b[1;32m   1572\u001b[0m         \u001b[0;31m# set feature names\u001b[0m\u001b[0;34m\u001b[0m\u001b[0;34m\u001b[0m\u001b[0m\n\u001b[0;32m-> 1573\u001b[0;31m         \u001b[0;32mreturn\u001b[0m \u001b[0mself\u001b[0m\u001b[0;34m.\u001b[0m\u001b[0mset_feature_name\u001b[0m\u001b[0;34m(\u001b[0m\u001b[0mfeature_name\u001b[0m\u001b[0;34m)\u001b[0m\u001b[0;34m\u001b[0m\u001b[0;34m\u001b[0m\u001b[0m\n\u001b[0m\u001b[1;32m   1574\u001b[0m \u001b[0;34m\u001b[0m\u001b[0m\n\u001b[1;32m   1575\u001b[0m     \u001b[0;34m@\u001b[0m\u001b[0mstaticmethod\u001b[0m\u001b[0;34m\u001b[0m\u001b[0;34m\u001b[0m\u001b[0m\n",
      "\u001b[0;32m/usr/local/lib/python3.10/dist-packages/lightgbm/basic.py\u001b[0m in \u001b[0;36mset_feature_name\u001b[0;34m(self, feature_name)\u001b[0m\n\u001b[1;32m   2140\u001b[0m                 \u001b[0;32mraise\u001b[0m \u001b[0mValueError\u001b[0m\u001b[0;34m(\u001b[0m\u001b[0;34mf\"Length of feature_name({len(feature_name)}) and num_feature({self.num_feature()}) don't match\"\u001b[0m\u001b[0;34m)\u001b[0m\u001b[0;34m\u001b[0m\u001b[0;34m\u001b[0m\u001b[0m\n\u001b[1;32m   2141\u001b[0m             \u001b[0mc_feature_name\u001b[0m \u001b[0;34m=\u001b[0m \u001b[0;34m[\u001b[0m\u001b[0mc_str\u001b[0m\u001b[0;34m(\u001b[0m\u001b[0mname\u001b[0m\u001b[0;34m)\u001b[0m \u001b[0;32mfor\u001b[0m \u001b[0mname\u001b[0m \u001b[0;32min\u001b[0m \u001b[0mfeature_name\u001b[0m\u001b[0;34m]\u001b[0m\u001b[0;34m\u001b[0m\u001b[0;34m\u001b[0m\u001b[0m\n\u001b[0;32m-> 2142\u001b[0;31m             _safe_call(_LIB.LGBM_DatasetSetFeatureNames(\n\u001b[0m\u001b[1;32m   2143\u001b[0m                 \u001b[0mself\u001b[0m\u001b[0;34m.\u001b[0m\u001b[0mhandle\u001b[0m\u001b[0;34m,\u001b[0m\u001b[0;34m\u001b[0m\u001b[0;34m\u001b[0m\u001b[0m\n\u001b[1;32m   2144\u001b[0m                 \u001b[0mc_array\u001b[0m\u001b[0;34m(\u001b[0m\u001b[0mctypes\u001b[0m\u001b[0;34m.\u001b[0m\u001b[0mc_char_p\u001b[0m\u001b[0;34m,\u001b[0m \u001b[0mc_feature_name\u001b[0m\u001b[0;34m)\u001b[0m\u001b[0;34m,\u001b[0m\u001b[0;34m\u001b[0m\u001b[0;34m\u001b[0m\u001b[0m\n",
      "\u001b[0;32m/usr/local/lib/python3.10/dist-packages/lightgbm/basic.py\u001b[0m in \u001b[0;36m_safe_call\u001b[0;34m(ret)\u001b[0m\n\u001b[1;32m    123\u001b[0m     \"\"\"\n\u001b[1;32m    124\u001b[0m     \u001b[0;32mif\u001b[0m \u001b[0mret\u001b[0m \u001b[0;34m!=\u001b[0m \u001b[0;36m0\u001b[0m\u001b[0;34m:\u001b[0m\u001b[0;34m\u001b[0m\u001b[0;34m\u001b[0m\u001b[0m\n\u001b[0;32m--> 125\u001b[0;31m         \u001b[0;32mraise\u001b[0m \u001b[0mLightGBMError\u001b[0m\u001b[0;34m(\u001b[0m\u001b[0m_LIB\u001b[0m\u001b[0;34m.\u001b[0m\u001b[0mLGBM_GetLastError\u001b[0m\u001b[0;34m(\u001b[0m\u001b[0;34m)\u001b[0m\u001b[0;34m.\u001b[0m\u001b[0mdecode\u001b[0m\u001b[0;34m(\u001b[0m\u001b[0;34m'utf-8'\u001b[0m\u001b[0;34m)\u001b[0m\u001b[0;34m)\u001b[0m\u001b[0;34m\u001b[0m\u001b[0;34m\u001b[0m\u001b[0m\n\u001b[0m\u001b[1;32m    126\u001b[0m \u001b[0;34m\u001b[0m\u001b[0m\n\u001b[1;32m    127\u001b[0m \u001b[0;34m\u001b[0m\u001b[0m\n",
      "\u001b[0;31mLightGBMError\u001b[0m: Do not support special JSON characters in feature name."
     ]
    }
   ],
   "source": [
    "# Для каждого таргета фитим модель\n",
    "\n",
    "models = {}\n",
    "\n",
    "params = {'max_depth': 1, 'objective': 'binary',\n",
    "          'learning_rate': 0.003, 'verbose': -1, 'random_state': RS}\n",
    "\n",
    "for t in range(1, 5):\n",
    "    target_col = f'target_{t}'\n",
    "    tg = df_fit[target_col]\n",
    "    X = df_fit.drop(columns=[f'target_{i}' for i in range(1, 5)])\n",
    "    trds = Dataset(X, tg)\n",
    "\n",
    "    tgv = df_val[target_col]\n",
    "    Xv = df_val.drop(columns=[f'target_{i}' for i in range(1, 5)])\n",
    "    vds = Dataset(Xv, tgv)\n",
    "\n",
    "    lgbm = lightgbm.train(params=params, num_boost_round=1000, train_set=trds, valid_sets=[vds],\n",
    "                          callbacks=[lightgbm.early_stopping(stopping_rounds=5)])\n",
    "\n",
    "    models[target_col] = lgbm\n",
    "    print(f'{target_col} score train: {2 * roc_auc_score(tg, lgbm.predict(X)) - 1}')\n",
    "\n",
    "print('======================================')\n",
    "metrics = {}\n",
    "for t in range(1, 5):\n",
    "    target_col = f'target_{t}'\n",
    "    tg = df_val[target_col]\n",
    "    X = df_val.drop(columns=[f'target_{i}' for i in range(1, 5)])\n",
    "    metrics[target_col] = 2 * roc_auc_score(tg, models[target_col].predict(X)) - 1\n",
    "    print(f'{target_col} score test: {metrics[target_col]}')\n",
    "\n",
    "print('======================================')\n",
    "print(f'avg gini: {sum(metrics.values())/4}')"
   ]
  },
  {
   "cell_type": "code",
   "execution_count": 205,
   "metadata": {
    "colab": {
     "base_uri": "https://localhost:8080/",
     "height": 193
    },
    "execution": {
     "iopub.execute_input": "2024-07-04T09:55:55.670036Z",
     "iopub.status.busy": "2024-07-04T09:55:55.669095Z",
     "iopub.status.idle": "2024-07-04T09:55:55.710678Z",
     "shell.execute_reply": "2024-07-04T09:55:55.709549Z",
     "shell.execute_reply.started": "2024-07-04T09:55:55.670000Z"
    },
    "id": "Pny_d0vjbI0Z",
    "outputId": "61b86ed0-c36c-4e2a-a924-107acf995497",
    "tags": []
   },
   "outputs": [],
   "source": [
    "# Сохраняем обученные модели\n",
    "\n",
    "with open(f'{DATA_PATH}/models.pkl', 'wb') as fl:\n",
    "    pickle.dump(models, fl)"
   ]
  },
  {
   "cell_type": "markdown",
   "metadata": {
    "id": "EK5ay3RYTR4l"
   },
   "source": [
    "# CatBoost"
   ]
  },
  {
   "cell_type": "code",
   "execution_count": 11,
   "metadata": {
    "execution": {
     "iopub.execute_input": "2024-07-04T00:11:04.966916Z",
     "iopub.status.busy": "2024-07-04T00:11:04.966315Z",
     "iopub.status.idle": "2024-07-04T00:11:11.800514Z",
     "shell.execute_reply": "2024-07-04T00:11:11.799711Z",
     "shell.execute_reply.started": "2024-07-04T00:11:04.966881Z"
    },
    "id": "IWL3qCUATZcj",
    "tags": []
   },
   "outputs": [
    {
     "name": "stdout",
     "output_type": "stream",
     "text": [
      "\n",
      "\u001b[1m[\u001b[0m\u001b[34;49mnotice\u001b[0m\u001b[1;39;49m]\u001b[0m\u001b[39;49m A new release of pip is available: \u001b[0m\u001b[31;49m23.0.1\u001b[0m\u001b[39;49m -> \u001b[0m\u001b[32;49m24.1.1\u001b[0m\n",
      "\u001b[1m[\u001b[0m\u001b[34;49mnotice\u001b[0m\u001b[1;39;49m]\u001b[0m\u001b[39;49m To update, run: \u001b[0m\u001b[32;49mpython3 -m pip install --upgrade pip\u001b[0m\n"
     ]
    }
   ],
   "source": [
    "%pip install catboost --quiet"
   ]
  },
  {
   "cell_type": "code",
   "execution_count": 241,
   "metadata": {
    "colab": {
     "base_uri": "https://localhost:8080/"
    },
    "execution": {
     "iopub.execute_input": "2024-07-04T10:50:56.518237Z",
     "iopub.status.busy": "2024-07-04T10:50:56.516821Z",
     "iopub.status.idle": "2024-07-04T10:51:24.066818Z",
     "shell.execute_reply": "2024-07-04T10:51:24.065673Z",
     "shell.execute_reply.started": "2024-07-04T10:50:56.518201Z"
    },
    "id": "LiCHNBidcKiT",
    "outputId": "91a8eef8-d006-49a0-9727-93e434afdbf8",
    "tags": []
   },
   "outputs": [
    {
     "name": "stdout",
     "output_type": "stream",
     "text": [
      "Learning rate set to 0.205401\n",
      "0:\tlearn: 0.6521339\ttest: 0.6537459\tbest: 0.6537459 (0)\ttotal: 107ms\tremaining: 1m 46s\n",
      "Stopped by overfitting detector  (10 iterations wait)\n",
      "\n",
      "bestTest = 0.5594335605\n",
      "bestIteration = 82\n",
      "\n",
      "Shrink model to first 83 iterations.\n",
      "target_1 score train: 0.47464497266305994\n",
      "Learning rate set to 0.205401\n",
      "0:\tlearn: 0.5788528\ttest: 0.5879805\tbest: 0.5879805 (0)\ttotal: 98.7ms\tremaining: 1m 38s\n",
      "Stopped by overfitting detector  (10 iterations wait)\n",
      "\n",
      "bestTest = 0.442881407\n",
      "bestIteration = 12\n",
      "\n",
      "Shrink model to first 13 iterations.\n",
      "target_2 score train: 0.6365778123402777\n",
      "Learning rate set to 0.205401\n",
      "0:\tlearn: 0.6123033\ttest: 0.6142211\tbest: 0.6142211 (0)\ttotal: 86.3ms\tremaining: 1m 26s\n",
      "Stopped by overfitting detector  (10 iterations wait)\n",
      "\n",
      "bestTest = 0.4921855661\n",
      "bestIteration = 75\n",
      "\n",
      "Shrink model to first 76 iterations.\n",
      "target_3 score train: 0.5792059294996199\n",
      "Learning rate set to 0.205401\n",
      "0:\tlearn: 0.6272428\ttest: 0.6296579\tbest: 0.6296579 (0)\ttotal: 86.2ms\tremaining: 1m 26s\n",
      "Stopped by overfitting detector  (10 iterations wait)\n",
      "\n",
      "bestTest = 0.4862152394\n",
      "bestIteration = 54\n",
      "\n",
      "Shrink model to first 55 iterations.\n",
      "target_4 score train: 0.5917810165681503\n"
     ]
    }
   ],
   "source": [
    "from catboost import CatBoostClassifier, Pool\n",
    "\n",
    "catboost_models = {}\n",
    "\n",
    "catboost_params = {\n",
    "    'iterations': 1000,\n",
    "    'task_type': 'CPU',\n",
    "    'random_seed': 42,\n",
    "    'od_type': 'Iter',\n",
    "    'early_stopping_rounds': 10,\n",
    "    'random_strength': 0.5,\n",
    "    'verbose': 100,\n",
    "    'use_best_model' : True,\n",
    "    'custom_metric': 'AUC',\n",
    "    'auto_class_weights': 'Balanced'\n",
    "}\n",
    "\n",
    "cat_features = []\n",
    "\n",
    "for t in range(1, 5):\n",
    "    target_col = f'target_{t}'\n",
    "    tg = df_fit[target_col]\n",
    "    X = df_fit.drop(columns=[f'target_{i}' for i in range(1, 5)])\n",
    "    train_pool = Pool(X, tg, cat_features=cat_features)\n",
    "\n",
    "    tgv = df_val[target_col]\n",
    "    Xv = df_val.drop(columns=[f'target_{i}' for i in range(1, 5)])\n",
    "    valid_pool = Pool(Xv, tgv, cat_features=cat_features)\n",
    "\n",
    "    model = CatBoostClassifier(**catboost_params)\n",
    "\n",
    "    model.fit(train_pool, eval_set=valid_pool, use_best_model=True)\n",
    "\n",
    "    catboost_models[target_col] = model\n",
    "    print(f'{target_col} score train: {2 * roc_auc_score(tg, model.predict(X)) - 1}')"
   ]
  },
  {
   "cell_type": "code",
   "execution_count": 242,
   "metadata": {
    "colab": {
     "base_uri": "https://localhost:8080/"
    },
    "execution": {
     "iopub.execute_input": "2024-07-04T10:51:27.924127Z",
     "iopub.status.busy": "2024-07-04T10:51:27.922987Z",
     "iopub.status.idle": "2024-07-04T10:51:28.151961Z",
     "shell.execute_reply": "2024-07-04T10:51:28.151269Z",
     "shell.execute_reply.started": "2024-07-04T10:51:27.924090Z"
    },
    "id": "BaHCTPIIgUbn",
    "outputId": "56be81ed-8810-4c3a-e525-9d5b35612ad7",
    "tags": []
   },
   "outputs": [
    {
     "name": "stdout",
     "output_type": "stream",
     "text": [
      "target_1 score test: 0.4278641168197861\n",
      "target_2 score test: 0.5509165189037035\n",
      "target_3 score test: 0.53873992141966\n",
      "target_4 score test: 0.5522081708999074\n",
      "======================================\n",
      "avg gini: 0.5174321820107642\n"
     ]
    }
   ],
   "source": [
    "metrics = {}\n",
    "for t in range(1, 5):\n",
    "    target_col = f'target_{t}'\n",
    "    tg = df_val[target_col]\n",
    "    X = df_val.drop(columns=[f'target_{i}' for i in range(1, 5)])\n",
    "    metrics[target_col] = 2 * roc_auc_score(tg, catboost_models[target_col].predict(X)) - 1\n",
    "    print(f'{target_col} score test: {metrics[target_col]}')\n",
    "\n",
    "print('======================================')\n",
    "print(f'avg gini: {sum(metrics.values())/4}')"
   ]
  },
  {
   "cell_type": "code",
   "execution_count": 22,
   "metadata": {
    "execution": {
     "iopub.execute_input": "2024-07-04T00:27:17.630372Z",
     "iopub.status.busy": "2024-07-04T00:27:17.629410Z",
     "iopub.status.idle": "2024-07-04T00:27:23.789599Z",
     "shell.execute_reply": "2024-07-04T00:27:23.788491Z",
     "shell.execute_reply.started": "2024-07-04T00:27:17.630338Z"
    },
    "tags": []
   },
   "outputs": [
    {
     "name": "stdout",
     "output_type": "stream",
     "text": [
      "\n",
      "\u001b[1m[\u001b[0m\u001b[34;49mnotice\u001b[0m\u001b[1;39;49m]\u001b[0m\u001b[39;49m A new release of pip is available: \u001b[0m\u001b[31;49m23.0.1\u001b[0m\u001b[39;49m -> \u001b[0m\u001b[32;49m24.1.1\u001b[0m\n",
      "\u001b[1m[\u001b[0m\u001b[34;49mnotice\u001b[0m\u001b[1;39;49m]\u001b[0m\u001b[39;49m To update, run: \u001b[0m\u001b[32;49mpython3 -m pip install --upgrade pip\u001b[0m\n"
     ]
    }
   ],
   "source": [
    "%pip install optuna --quiet"
   ]
  },
  {
   "cell_type": "code",
   "execution_count": 171,
   "metadata": {
    "execution": {
     "iopub.execute_input": "2024-07-04T08:49:04.935835Z",
     "iopub.status.busy": "2024-07-04T08:49:04.934786Z",
     "iopub.status.idle": "2024-07-04T08:49:05.096288Z",
     "shell.execute_reply": "2024-07-04T08:49:05.095556Z",
     "shell.execute_reply.started": "2024-07-04T08:49:04.935789Z"
    },
    "tags": []
   },
   "outputs": [],
   "source": [
    "import optuna\n",
    "\n",
    "def objective(trial):\n",
    "    params = {\n",
    "        'random_seed': 42,\n",
    "        \"iterations\": 1000,\n",
    "        'od_type': 'Iter',\n",
    "        'early_stopping_rounds': trial.suggest_int(\"early_stopping_rounds\", 1, 101, step=10),\n",
    "        'random_strength': 0.5,\n",
    "        # 'verbose': 100,\n",
    "        'use_best_model' : True,\n",
    "        'custom_metric': 'AUC',\n",
    "        'auto_class_weights': 'Balanced',\n",
    "        \"learning_rate\": trial.suggest_float(\"learning_rate\", 1e-3, 0.1, log=True),\n",
    "        \"depth\": trial.suggest_int(\"depth\", 1, 10),\n",
    "        \"subsample\": trial.suggest_float(\"subsample\", 0.05, 1.0),\n",
    "        \"colsample_bylevel\": trial.suggest_float(\"colsample_bylevel\", 0.05, 1.0),\n",
    "        \"min_data_in_leaf\": trial.suggest_int(\"min_data_in_leaf\", 1, 100),\n",
    "        \n",
    "    }\n",
    "    cat_features = []\n",
    "\n",
    "    for t in range(1, 2):\n",
    "        target_col = f'target_{t}'\n",
    "        tg = df_fit[target_col]\n",
    "        X = df_fit.drop(columns=[f'target_{i}' for i in range(1, 5)])\n",
    "        train_pool = Pool(X, tg, cat_features=cat_features)\n",
    "\n",
    "        tgv = df_val[target_col]\n",
    "        Xv = df_val.drop(columns=[f'target_{i}' for i in range(1, 5)])\n",
    "        valid_pool = Pool(Xv, tgv, cat_features=cat_features)\n",
    "\n",
    "        model = CatBoostClassifier(**params, silent=True)\n",
    "        model.fit(train_pool, eval_set=valid_pool, use_best_model=True)\n",
    "\n",
    "        predictions = model.predict(Xv)\n",
    "        gini = 2 * roc_auc_score(tgv, model.predict(Xv)) - 1\n",
    "    return gini"
   ]
  },
  {
   "cell_type": "code",
   "execution_count": 172,
   "metadata": {
    "execution": {
     "iopub.execute_input": "2024-07-04T08:49:05.422807Z",
     "iopub.status.busy": "2024-07-04T08:49:05.421912Z",
     "iopub.status.idle": "2024-07-04T08:50:01.871011Z",
     "shell.execute_reply": "2024-07-04T08:50:01.870190Z",
     "shell.execute_reply.started": "2024-07-04T08:49:05.422780Z"
    },
    "tags": []
   },
   "outputs": [
    {
     "name": "stderr",
     "output_type": "stream",
     "text": [
      "[I 2024-07-04 08:49:05,426] A new study created in memory with name: no-name-ae09a80c-ec9e-4108-bad9-bd6f0ae73098\n",
      "[I 2024-07-04 08:49:05,727] Trial 0 finished with value: 0.22799028536733457 and parameters: {'early_stopping_rounds': 1, 'learning_rate': 0.004351160418001226, 'depth': 8, 'subsample': 0.18168690817481414, 'colsample_bylevel': 0.9454074272386749, 'min_data_in_leaf': 38}. Best is trial 0 with value: 0.22799028536733457.\n",
      "[I 2024-07-04 08:49:06,310] Trial 1 finished with value: 0.04644808743169393 and parameters: {'early_stopping_rounds': 81, 'learning_rate': 0.04171234458871268, 'depth': 3, 'subsample': 0.10863170020976255, 'colsample_bylevel': 0.3100109619989448, 'min_data_in_leaf': 37}. Best is trial 0 with value: 0.22799028536733457.\n",
      "[I 2024-07-04 08:49:07,110] Trial 2 finished with value: 0.17091681845780204 and parameters: {'early_stopping_rounds': 51, 'learning_rate': 0.049935567825828905, 'depth': 5, 'subsample': 0.9570223270248693, 'colsample_bylevel': 0.3674115854722146, 'min_data_in_leaf': 79}. Best is trial 0 with value: 0.22799028536733457.\n",
      "[I 2024-07-04 08:49:10,227] Trial 3 finished with value: 0.032483302975106154 and parameters: {'early_stopping_rounds': 91, 'learning_rate': 0.03678213475311176, 'depth': 6, 'subsample': 0.3603840228541047, 'colsample_bylevel': 0.843745163449505, 'min_data_in_leaf': 71}. Best is trial 0 with value: 0.22799028536733457.\n",
      "[I 2024-07-04 08:49:10,593] Trial 4 finished with value: 0.03673345476624168 and parameters: {'early_stopping_rounds': 1, 'learning_rate': 0.0011281776247078002, 'depth': 1, 'subsample': 0.2878344732362183, 'colsample_bylevel': 0.8350400840078481, 'min_data_in_leaf': 33}. Best is trial 0 with value: 0.22799028536733457.\n",
      "[I 2024-07-04 08:49:10,812] Trial 5 finished with value: 0.10291438979963563 and parameters: {'early_stopping_rounds': 11, 'learning_rate': 0.0028606141299011606, 'depth': 3, 'subsample': 0.766030919893319, 'colsample_bylevel': 0.6198680000626657, 'min_data_in_leaf': 54}. Best is trial 0 with value: 0.22799028536733457.\n",
      "[I 2024-07-04 08:49:14,801] Trial 6 finished with value: 0.11839708561020035 and parameters: {'early_stopping_rounds': 81, 'learning_rate': 0.004275979331143472, 'depth': 7, 'subsample': 0.7153491960136983, 'colsample_bylevel': 0.5889702189807517, 'min_data_in_leaf': 87}. Best is trial 0 with value: 0.22799028536733457.\n",
      "[I 2024-07-04 08:49:15,939] Trial 7 finished with value: 0.0558591378263511 and parameters: {'early_stopping_rounds': 71, 'learning_rate': 0.0010804736401217848, 'depth': 5, 'subsample': 0.6134176644335091, 'colsample_bylevel': 0.41978820727316335, 'min_data_in_leaf': 62}. Best is trial 0 with value: 0.22799028536733457.\n",
      "[I 2024-07-04 08:49:16,434] Trial 8 finished with value: 0.03582270795385556 and parameters: {'early_stopping_rounds': 91, 'learning_rate': 0.004192307298260902, 'depth': 1, 'subsample': 0.6730275573003275, 'colsample_bylevel': 0.41307386192327483, 'min_data_in_leaf': 56}. Best is trial 0 with value: 0.22799028536733457.\n",
      "[I 2024-07-04 08:49:17,699] Trial 9 finished with value: 0.0018214936247722413 and parameters: {'early_stopping_rounds': 91, 'learning_rate': 0.0051210362545579795, 'depth': 5, 'subsample': 0.832532892582511, 'colsample_bylevel': 0.3377212990549022, 'min_data_in_leaf': 36}. Best is trial 0 with value: 0.22799028536733457.\n",
      "[I 2024-07-04 08:49:18,660] Trial 10 finished with value: -0.1053430479659988 and parameters: {'early_stopping_rounds': 31, 'learning_rate': 0.01725936461651171, 'depth': 10, 'subsample': 0.07362745852975104, 'colsample_bylevel': 0.10605748312130292, 'min_data_in_leaf': 2}. Best is trial 0 with value: 0.22799028536733457.\n",
      "[I 2024-07-04 08:49:25,354] Trial 11 finished with value: -0.060109289617486406 and parameters: {'early_stopping_rounds': 51, 'learning_rate': 0.07382263890038301, 'depth': 10, 'subsample': 0.9932735166630674, 'colsample_bylevel': 0.9244794436264312, 'min_data_in_leaf': 99}. Best is trial 0 with value: 0.22799028536733457.\n",
      "[I 2024-07-04 08:49:26,438] Trial 12 finished with value: -0.08318154219793583 and parameters: {'early_stopping_rounds': 31, 'learning_rate': 0.011083674021741513, 'depth': 8, 'subsample': 0.4484995837287888, 'colsample_bylevel': 0.11935722896651366, 'min_data_in_leaf': 12}. Best is trial 0 with value: 0.22799028536733457.\n",
      "[I 2024-07-04 08:49:31,112] Trial 13 finished with value: 0.061627200971463125 and parameters: {'early_stopping_rounds': 51, 'learning_rate': 0.09977067943000657, 'depth': 8, 'subsample': 0.2298154526727053, 'colsample_bylevel': 0.7141775133707818, 'min_data_in_leaf': 77}. Best is trial 0 with value: 0.22799028536733457.\n",
      "[I 2024-07-04 08:49:32,954] Trial 14 finished with value: -0.10716454159077116 and parameters: {'early_stopping_rounds': 21, 'learning_rate': 0.02012823384855103, 'depth': 8, 'subsample': 0.973772812766028, 'colsample_bylevel': 0.9744512101644545, 'min_data_in_leaf': 28}. Best is trial 0 with value: 0.22799028536733457.\n",
      "[I 2024-07-04 08:49:33,592] Trial 15 finished with value: 0.033394049787492275 and parameters: {'early_stopping_rounds': 61, 'learning_rate': 0.007873489779394493, 'depth': 4, 'subsample': 0.538951678968596, 'colsample_bylevel': 0.27341952621521515, 'min_data_in_leaf': 82}. Best is trial 0 with value: 0.22799028536733457.\n",
      "[I 2024-07-04 08:49:35,973] Trial 16 finished with value: 0.16666666666666652 and parameters: {'early_stopping_rounds': 41, 'learning_rate': 0.002426514758948524, 'depth': 7, 'subsample': 0.8626751908944558, 'colsample_bylevel': 0.7116201605939794, 'min_data_in_leaf': 46}. Best is trial 0 with value: 0.22799028536733457.\n",
      "[I 2024-07-04 08:49:36,403] Trial 17 finished with value: 0.1278081360048573 and parameters: {'early_stopping_rounds': 1, 'learning_rate': 0.03153107195992394, 'depth': 9, 'subsample': 0.18415237636748105, 'colsample_bylevel': 0.5091361203110562, 'min_data_in_leaf': 20}. Best is trial 0 with value: 0.22799028536733457.\n",
      "[I 2024-07-04 08:49:36,885] Trial 18 finished with value: -0.08682452944748031 and parameters: {'early_stopping_rounds': 21, 'learning_rate': 0.009211549782412815, 'depth': 6, 'subsample': 0.42719158494540765, 'colsample_bylevel': 0.22823820482478582, 'min_data_in_leaf': 100}. Best is trial 0 with value: 0.22799028536733457.\n",
      "[I 2024-07-04 08:49:38,026] Trial 19 finished with value: 0.08743169398907091 and parameters: {'early_stopping_rounds': 101, 'learning_rate': 0.002148475681002073, 'depth': 4, 'subsample': 0.5626803213368531, 'colsample_bylevel': 0.4859578862281024, 'min_data_in_leaf': 68}. Best is trial 0 with value: 0.22799028536733457.\n",
      "[I 2024-07-04 08:49:41,229] Trial 20 finished with value: 0.16089860352155427 and parameters: {'early_stopping_rounds': 61, 'learning_rate': 0.01941933230033657, 'depth': 7, 'subsample': 0.32607052144128856, 'colsample_bylevel': 0.6989313380701957, 'min_data_in_leaf': 45}. Best is trial 0 with value: 0.22799028536733457.\n",
      "[I 2024-07-04 08:49:43,699] Trial 21 finished with value: 0.05312689738919252 and parameters: {'early_stopping_rounds': 41, 'learning_rate': 0.0022441817549836434, 'depth': 7, 'subsample': 0.8693778762964159, 'colsample_bylevel': 0.770942407099851, 'min_data_in_leaf': 46}. Best is trial 0 with value: 0.22799028536733457.\n",
      "[I 2024-07-04 08:49:51,405] Trial 22 finished with value: -0.10139647844565869 and parameters: {'early_stopping_rounds': 41, 'learning_rate': 0.0017622077565389754, 'depth': 9, 'subsample': 0.8821669689039247, 'colsample_bylevel': 0.8873609927739098, 'min_data_in_leaf': 46}. Best is trial 0 with value: 0.22799028536733457.\n",
      "[I 2024-07-04 08:49:51,906] Trial 23 finished with value: 0.11839708561020035 and parameters: {'early_stopping_rounds': 11, 'learning_rate': 0.00521458596265455, 'depth': 6, 'subsample': 0.93477354922338, 'colsample_bylevel': 0.6185515800933589, 'min_data_in_leaf': 21}. Best is trial 0 with value: 0.22799028536733457.\n",
      "[I 2024-07-04 08:49:54,729] Trial 24 finished with value: -0.012446873102610834 and parameters: {'early_stopping_rounds': 51, 'learning_rate': 0.00324092627090357, 'depth': 7, 'subsample': 0.7935953445311776, 'colsample_bylevel': 0.769655234543932, 'min_data_in_leaf': 65}. Best is trial 0 with value: 0.22799028536733457.\n",
      "[I 2024-07-04 08:49:59,707] Trial 25 finished with value: -0.042501517911353925 and parameters: {'early_stopping_rounds': 31, 'learning_rate': 0.007155729224970656, 'depth': 9, 'subsample': 0.6769477147954921, 'colsample_bylevel': 0.9781500869516311, 'min_data_in_leaf': 57}. Best is trial 0 with value: 0.22799028536733457.\n",
      "[I 2024-07-04 08:50:00,240] Trial 26 finished with value: 0.22040072859744986 and parameters: {'early_stopping_rounds': 61, 'learning_rate': 0.013886418311976245, 'depth': 4, 'subsample': 0.9145417014722189, 'colsample_bylevel': 0.1753222632402567, 'min_data_in_leaf': 89}. Best is trial 0 with value: 0.22799028536733457.\n",
      "[I 2024-07-04 08:50:00,693] Trial 27 finished with value: 0.10837887067395258 and parameters: {'early_stopping_rounds': 71, 'learning_rate': 0.012684449635940703, 'depth': 3, 'subsample': 0.47174688328243103, 'colsample_bylevel': 0.15279430300935898, 'min_data_in_leaf': 91}. Best is trial 0 with value: 0.22799028536733457.\n",
      "[I 2024-07-04 08:50:01,235] Trial 28 finished with value: 0.16059502125075897 and parameters: {'early_stopping_rounds': 61, 'learning_rate': 0.059252989028132724, 'depth': 4, 'subsample': 0.9051490577850267, 'colsample_bylevel': 0.19575574276230873, 'min_data_in_leaf': 79}. Best is trial 0 with value: 0.22799028536733457.\n",
      "[I 2024-07-04 08:50:01,800] Trial 29 finished with value: 0.005464480874316946 and parameters: {'early_stopping_rounds': 71, 'learning_rate': 0.02727430891881382, 'depth': 2, 'subsample': 0.14239294786227102, 'colsample_bylevel': 0.3387436907954462, 'min_data_in_leaf': 93}. Best is trial 0 with value: 0.22799028536733457.\n"
     ]
    }
   ],
   "source": [
    "study = optuna.create_study(direction='maximize')\n",
    "study.optimize(objective, n_trials=30)"
   ]
  },
  {
   "cell_type": "code",
   "execution_count": 12,
   "metadata": {
    "colab": {
     "base_uri": "https://localhost:8080/",
     "height": 211
    },
    "id": "sctNi-MHTOEf",
    "outputId": "f8b707c3-0008-4b94-f2cc-7f5b50605c38"
   },
   "outputs": [
    {
     "ename": "ModuleNotFoundError",
     "evalue": "No module named 'catboost'",
     "output_type": "error",
     "traceback": [
      "\u001b[0;31m---------------------------------------------------------------------------\u001b[0m",
      "\u001b[0;31mModuleNotFoundError\u001b[0m                       Traceback (most recent call last)",
      "\u001b[0;32m<ipython-input-12-09287fdf4adb>\u001b[0m in \u001b[0;36m<cell line: 1>\u001b[0;34m()\u001b[0m\n\u001b[0;32m----> 1\u001b[0;31m \u001b[0;32mfrom\u001b[0m \u001b[0mcatboost\u001b[0m \u001b[0;32mimport\u001b[0m \u001b[0mCatBoostRegressor\u001b[0m\u001b[0;34m\u001b[0m\u001b[0;34m\u001b[0m\u001b[0m\n\u001b[0m\u001b[1;32m      2\u001b[0m \u001b[0;34m\u001b[0m\u001b[0m\n\u001b[1;32m      3\u001b[0m catboost_params = {\n\u001b[1;32m      4\u001b[0m     \u001b[0;34m'iterations'\u001b[0m\u001b[0;34m:\u001b[0m \u001b[0;36m10000\u001b[0m\u001b[0;34m,\u001b[0m\u001b[0;34m\u001b[0m\u001b[0;34m\u001b[0m\u001b[0m\n\u001b[1;32m      5\u001b[0m     \u001b[0;34m'task_type'\u001b[0m\u001b[0;34m:\u001b[0m \u001b[0;34m'GPU'\u001b[0m\u001b[0;34m,\u001b[0m\u001b[0;34m\u001b[0m\u001b[0;34m\u001b[0m\u001b[0m\n",
      "\u001b[0;31mModuleNotFoundError\u001b[0m: No module named 'catboost'"
     ]
    }
   ],
   "source": [
    "from catboost import CatBoostClassifier, Pool\n",
    "\n",
    "catboost_params = {\n",
    "    'iterations': 1000,\n",
    "    'task_type': 'GPU',\n",
    "    'random_seed': 42,\n",
    "    'od_type': 'Iter',\n",
    "    'early_stopping_rounds': 100,\n",
    "    'random_strength': 0.5,\n",
    "    'verbose': 100,\n",
    "    'use_best_model' : True,\n",
    "    'eval_metric': 'AUC'\n",
    "}\n",
    "\n",
    "model = CatBoostClassifier(**catboost_params)\n",
    "\n",
    "model.fit(X, y)"
   ]
  },
  {
   "cell_type": "code",
   "execution_count": null,
   "metadata": {
    "execution": {
     "iopub.execute_input": "2024-07-04T10:52:27.763362Z",
     "iopub.status.busy": "2024-07-04T10:52:27.762364Z",
     "iopub.status.idle": "2024-07-04T10:52:27.783757Z",
     "shell.execute_reply": "2024-07-04T10:52:27.782968Z",
     "shell.execute_reply.started": "2024-07-04T10:52:27.763331Z"
    },
    "id": "uXfQp8PFTPsA"
   },
   "outputs": [],
   "source": [
    "model.save_model('model.cbm')"
   ]
  },
  {
   "cell_type": "markdown",
   "metadata": {
    "id": "urNW1Q6BbKF6"
   },
   "source": [
    "# Скорим тест"
   ]
  },
  {
   "cell_type": "code",
   "execution_count": 247,
   "metadata": {
    "execution": {
     "iopub.execute_input": "2024-07-04T11:16:21.537303Z",
     "iopub.status.busy": "2024-07-04T11:16:21.536265Z",
     "iopub.status.idle": "2024-07-04T11:16:21.554314Z",
     "shell.execute_reply": "2024-07-04T11:16:21.553629Z",
     "shell.execute_reply.started": "2024-07-04T11:16:21.537264Z"
    },
    "tags": []
   },
   "outputs": [
    {
     "data": {
      "text/plain": [
       "<catboost.core.CatBoostClassifier at 0x7f503089dfc0>"
      ]
     },
     "execution_count": 247,
     "metadata": {},
     "output_type": "execute_result"
    }
   ],
   "source": [
    "from catboost import CatBoostClassifier\n",
    "model = CatBoostClassifier()      # parameters not required.\n",
    "model.load_model('./model.cbm')"
   ]
  },
  {
   "cell_type": "code",
   "execution_count": 249,
   "metadata": {
    "execution": {
     "iopub.execute_input": "2024-07-04T11:19:24.272757Z",
     "iopub.status.busy": "2024-07-04T11:19:24.271839Z",
     "iopub.status.idle": "2024-07-04T11:19:28.528701Z",
     "shell.execute_reply": "2024-07-04T11:19:28.527878Z",
     "shell.execute_reply.started": "2024-07-04T11:19:24.272695Z"
    },
    "tags": []
   },
   "outputs": [],
   "source": [
    "target_test='https://drive.google.com/file/d/13GkSXC41LsSCr0oW2hr3nRQZUWoi2rXX/view?usp=drive_link'\n",
    "target_test='https://drive.google.com/uc?id=' + target_test.split('/')[-2]\n",
    "target_test = pd.read_parquet(target_test)"
   ]
  },
  {
   "cell_type": "code",
   "execution_count": 253,
   "metadata": {
    "execution": {
     "iopub.execute_input": "2024-07-04T11:21:24.198598Z",
     "iopub.status.busy": "2024-07-04T11:21:24.197624Z",
     "iopub.status.idle": "2024-07-04T11:21:31.524138Z",
     "shell.execute_reply": "2024-07-04T11:21:31.522703Z",
     "shell.execute_reply.started": "2024-07-04T11:21:24.198568Z"
    },
    "id": "-tv2GOMCbLH-",
    "tags": []
   },
   "outputs": [
    {
     "ename": "ArrowInvalid",
     "evalue": "Could not open Parquet input source '<Buffer>': Parquet magic bytes not found in footer. Either the file is corrupted or this is not a parquet file.",
     "output_type": "error",
     "traceback": [
      "\u001b[0;31m---------------------------------------------------------------------------\u001b[0m",
      "\u001b[0;31mArrowInvalid\u001b[0m                              Traceback (most recent call last)",
      "\u001b[0;32m/tmp/ipykernel_2346/614817232.py\u001b[0m in \u001b[0;36m<cell line: 5>\u001b[0;34m()\u001b[0m\n\u001b[1;32m      3\u001b[0m \u001b[0mtrx_test\u001b[0m\u001b[0;34m=\u001b[0m\u001b[0;34m'https://drive.google.com/file/d/13SpGyAPOHsMmWgByrNJZi4J_BAZbCqTP/view?usp=drive_link'\u001b[0m\u001b[0;34m\u001b[0m\u001b[0;34m\u001b[0m\u001b[0m\n\u001b[1;32m      4\u001b[0m \u001b[0mtrx_test\u001b[0m\u001b[0;34m=\u001b[0m\u001b[0;34m'https://drive.google.com/uc?id='\u001b[0m \u001b[0;34m+\u001b[0m \u001b[0mtrx_test\u001b[0m\u001b[0;34m.\u001b[0m\u001b[0msplit\u001b[0m\u001b[0;34m(\u001b[0m\u001b[0;34m'/'\u001b[0m\u001b[0;34m)\u001b[0m\u001b[0;34m[\u001b[0m\u001b[0;34m-\u001b[0m\u001b[0;36m2\u001b[0m\u001b[0;34m]\u001b[0m\u001b[0;34m\u001b[0m\u001b[0;34m\u001b[0m\u001b[0m\n\u001b[0;32m----> 5\u001b[0;31m \u001b[0mtrx_test0\u001b[0m \u001b[0;34m=\u001b[0m \u001b[0mpd\u001b[0m\u001b[0;34m.\u001b[0m\u001b[0mread_parquet\u001b[0m\u001b[0;34m(\u001b[0m\u001b[0mtrx_test\u001b[0m\u001b[0;34m)\u001b[0m\u001b[0;34m\u001b[0m\u001b[0;34m\u001b[0m\u001b[0m\n\u001b[0m\u001b[1;32m      6\u001b[0m \u001b[0;34m\u001b[0m\u001b[0m\n\u001b[1;32m      7\u001b[0m \u001b[0;31m# trx_test='https://drive.google.com/file/d/13ZVanqO-xXzC6XxF4_k0GdguteDOdrB5/view?usp=drive_link'\u001b[0m\u001b[0;34m\u001b[0m\u001b[0;34m\u001b[0m\u001b[0m\n",
      "\u001b[0;32m~/.local/lib/python3.10/site-packages/pandas/io/parquet.py\u001b[0m in \u001b[0;36mread_parquet\u001b[0;34m(path, engine, columns, storage_options, use_nullable_dtypes, **kwargs)\u001b[0m\n\u001b[1;32m    501\u001b[0m             msg += (\n\u001b[1;32m    502\u001b[0m                 \u001b[0;34m\"Use dtype_backend='numpy_nullable' instead of use_nullable_dtype=True.\"\u001b[0m\u001b[0;34m\u001b[0m\u001b[0;34m\u001b[0m\u001b[0m\n\u001b[0;32m--> 503\u001b[0;31m             )\n\u001b[0m\u001b[1;32m    504\u001b[0m         \u001b[0mwarnings\u001b[0m\u001b[0;34m.\u001b[0m\u001b[0mwarn\u001b[0m\u001b[0;34m(\u001b[0m\u001b[0mmsg\u001b[0m\u001b[0;34m,\u001b[0m \u001b[0mFutureWarning\u001b[0m\u001b[0;34m,\u001b[0m \u001b[0mstacklevel\u001b[0m\u001b[0;34m=\u001b[0m\u001b[0mfind_stack_level\u001b[0m\u001b[0;34m(\u001b[0m\u001b[0;34m)\u001b[0m\u001b[0;34m)\u001b[0m\u001b[0;34m\u001b[0m\u001b[0;34m\u001b[0m\u001b[0m\n\u001b[1;32m    505\u001b[0m     \u001b[0;32melse\u001b[0m\u001b[0;34m:\u001b[0m\u001b[0;34m\u001b[0m\u001b[0;34m\u001b[0m\u001b[0m\n",
      "\u001b[0;32m~/.local/lib/python3.10/site-packages/pandas/io/parquet.py\u001b[0m in \u001b[0;36mread\u001b[0;34m(self, path, columns, use_nullable_dtypes, storage_options, **kwargs)\u001b[0m\n\u001b[1;32m    249\u001b[0m     def write(\n\u001b[1;32m    250\u001b[0m         \u001b[0mself\u001b[0m\u001b[0;34m,\u001b[0m\u001b[0;34m\u001b[0m\u001b[0;34m\u001b[0m\u001b[0m\n\u001b[0;32m--> 251\u001b[0;31m         \u001b[0mdf\u001b[0m\u001b[0;34m:\u001b[0m \u001b[0mDataFrame\u001b[0m\u001b[0;34m,\u001b[0m\u001b[0;34m\u001b[0m\u001b[0;34m\u001b[0m\u001b[0m\n\u001b[0m\u001b[1;32m    252\u001b[0m         \u001b[0mpath\u001b[0m\u001b[0;34m,\u001b[0m\u001b[0;34m\u001b[0m\u001b[0;34m\u001b[0m\u001b[0m\n\u001b[1;32m    253\u001b[0m         \u001b[0mcompression\u001b[0m\u001b[0;34m:\u001b[0m \u001b[0mLiteral\u001b[0m\u001b[0;34m[\u001b[0m\u001b[0;34m\"snappy\"\u001b[0m\u001b[0;34m,\u001b[0m \u001b[0;34m\"gzip\"\u001b[0m\u001b[0;34m,\u001b[0m \u001b[0;34m\"brotli\"\u001b[0m\u001b[0;34m]\u001b[0m \u001b[0;34m|\u001b[0m \u001b[0;32mNone\u001b[0m \u001b[0;34m=\u001b[0m \u001b[0;34m\"snappy\"\u001b[0m\u001b[0;34m,\u001b[0m\u001b[0;34m\u001b[0m\u001b[0;34m\u001b[0m\u001b[0m\n",
      "\u001b[0;32m~/.local/lib/python3.10/site-packages/pyarrow/parquet/core.py\u001b[0m in \u001b[0;36mread_table\u001b[0;34m(source, columns, use_threads, schema, use_pandas_metadata, read_dictionary, memory_map, buffer_size, partitioning, filesystem, filters, use_legacy_dataset, ignore_prefixes, pre_buffer, coerce_int96_timestamp_unit, decryption_properties, thrift_string_size_limit, thrift_container_size_limit, page_checksum_verification)\u001b[0m\n\u001b[1;32m   1774\u001b[0m \u001b[0;34m\u001b[0m\u001b[0m\n\u001b[1;32m   1775\u001b[0m     \u001b[0;32mtry\u001b[0m\u001b[0;34m:\u001b[0m\u001b[0;34m\u001b[0m\u001b[0;34m\u001b[0m\u001b[0m\n\u001b[0;32m-> 1776\u001b[0;31m         dataset = ParquetDataset(\n\u001b[0m\u001b[1;32m   1777\u001b[0m             \u001b[0msource\u001b[0m\u001b[0;34m,\u001b[0m\u001b[0;34m\u001b[0m\u001b[0;34m\u001b[0m\u001b[0m\n\u001b[1;32m   1778\u001b[0m             \u001b[0mschema\u001b[0m\u001b[0;34m=\u001b[0m\u001b[0mschema\u001b[0m\u001b[0;34m,\u001b[0m\u001b[0;34m\u001b[0m\u001b[0;34m\u001b[0m\u001b[0m\n",
      "\u001b[0;32m~/.local/lib/python3.10/site-packages/pyarrow/parquet/core.py\u001b[0m in \u001b[0;36m__init__\u001b[0;34m(self, path_or_paths, filesystem, schema, filters, read_dictionary, memory_map, buffer_size, partitioning, ignore_prefixes, pre_buffer, coerce_int96_timestamp_unit, decryption_properties, thrift_string_size_limit, thrift_container_size_limit, page_checksum_verification, use_legacy_dataset)\u001b[0m\n\u001b[1;32m   1341\u001b[0m \u001b[0;34m\u001b[0m\u001b[0m\n\u001b[1;32m   1342\u001b[0m             self._dataset = ds.FileSystemDataset(\n\u001b[0;32m-> 1343\u001b[0;31m                 \u001b[0;34m[\u001b[0m\u001b[0mfragment\u001b[0m\u001b[0;34m]\u001b[0m\u001b[0;34m,\u001b[0m \u001b[0mschema\u001b[0m\u001b[0;34m=\u001b[0m\u001b[0mschema\u001b[0m \u001b[0;32mor\u001b[0m \u001b[0mfragment\u001b[0m\u001b[0;34m.\u001b[0m\u001b[0mphysical_schema\u001b[0m\u001b[0;34m,\u001b[0m\u001b[0;34m\u001b[0m\u001b[0;34m\u001b[0m\u001b[0m\n\u001b[0m\u001b[1;32m   1344\u001b[0m                 \u001b[0mformat\u001b[0m\u001b[0;34m=\u001b[0m\u001b[0mparquet_format\u001b[0m\u001b[0;34m,\u001b[0m\u001b[0;34m\u001b[0m\u001b[0;34m\u001b[0m\u001b[0m\n\u001b[1;32m   1345\u001b[0m                 \u001b[0mfilesystem\u001b[0m\u001b[0;34m=\u001b[0m\u001b[0mfragment\u001b[0m\u001b[0;34m.\u001b[0m\u001b[0mfilesystem\u001b[0m\u001b[0;34m\u001b[0m\u001b[0;34m\u001b[0m\u001b[0m\n",
      "\u001b[0;32m~/.local/lib/python3.10/site-packages/pyarrow/_dataset.pyx\u001b[0m in \u001b[0;36mpyarrow._dataset.Fragment.physical_schema.__get__\u001b[0;34m()\u001b[0m\n",
      "\u001b[0;32m~/.local/lib/python3.10/site-packages/pyarrow/error.pxi\u001b[0m in \u001b[0;36mpyarrow.lib.pyarrow_internal_check_status\u001b[0;34m()\u001b[0m\n",
      "\u001b[0;32m~/.local/lib/python3.10/site-packages/pyarrow/error.pxi\u001b[0m in \u001b[0;36mpyarrow.lib.check_status\u001b[0;34m()\u001b[0m\n",
      "\u001b[0;31mArrowInvalid\u001b[0m: Could not open Parquet input source '<Buffer>': Parquet magic bytes not found in footer. Either the file is corrupted or this is not a parquet file."
     ]
    }
   ],
   "source": [
    "# Загружаем тестовые данные\n",
    "\n",
    "trx_test='https://drive.google.com/file/d/13SpGyAPOHsMmWgByrNJZi4J_BAZbCqTP/view?usp=drive_link'\n",
    "trx_test='https://drive.google.com/uc?id=' + trx_test.split('/')[-2]\n",
    "trx_test0 = pd.read_parquet(trx_test)\n",
    "\n",
    "# trx_test='https://drive.google.com/file/d/13ZVanqO-xXzC6XxF4_k0GdguteDOdrB5/view?usp=drive_link'\n",
    "# trx_test='https://drive.google.com/uc?id=' + trx_test.split('/')[-2]\n",
    "# trx_test1 = pd.read_parquet(trx_test)\n",
    "\n",
    "# trx_test='https://drive.google.com/file/d/13aUq3rfhw-Na9GwCJ9okXT1gl-CtBhqq/view?usp=drive_link'\n",
    "# trx_test='https://drive.google.com/uc?id=' + trx_test.split('/')[-2]\n",
    "# trx_test2 = pd.read_parquet(trx_test)"
   ]
  },
  {
   "cell_type": "code",
   "execution_count": 32,
   "metadata": {
    "colab": {
     "base_uri": "https://localhost:8080/",
     "height": 193
    },
    "id": "0hGwuXmBbNY3",
    "outputId": "8227a974-f8cd-45c8-b92b-7ac5916c145f"
   },
   "outputs": [
    {
     "ename": "NameError",
     "evalue": "name 'trx_test' is not defined",
     "output_type": "error",
     "traceback": [
      "\u001b[0;31m---------------------------------------------------------------------------\u001b[0m",
      "\u001b[0;31mNameError\u001b[0m                                 Traceback (most recent call last)",
      "\u001b[0;32m<ipython-input-32-bf37e98c26f0>\u001b[0m in \u001b[0;36m<cell line: 3>\u001b[0;34m()\u001b[0m\n\u001b[1;32m      1\u001b[0m \u001b[0;31m# Т.к. необходимо предсказать таргет на следующий отчетный период -- считаем агрегаты по всей выборке\u001b[0m\u001b[0;34m\u001b[0m\u001b[0;34m\u001b[0m\u001b[0m\n\u001b[1;32m      2\u001b[0m \u001b[0;34m\u001b[0m\u001b[0m\n\u001b[0;32m----> 3\u001b[0;31m \u001b[0mfeats_test\u001b[0m \u001b[0;34m=\u001b[0m \u001b[0mtrx_test\u001b[0m\u001b[0;34m.\u001b[0m\u001b[0mgroupby\u001b[0m\u001b[0;34m(\u001b[0m\u001b[0;34m'client_id'\u001b[0m\u001b[0;34m)\u001b[0m\u001b[0;34m.\u001b[0m\u001b[0mamount\u001b[0m\u001b[0;34m.\u001b[0m\u001b[0magg\u001b[0m\u001b[0;34m(\u001b[0m\u001b[0;34m[\u001b[0m\u001b[0;34m'sum'\u001b[0m\u001b[0;34m,\u001b[0m \u001b[0;34m'max'\u001b[0m\u001b[0;34m,\u001b[0m \u001b[0;34m'min'\u001b[0m\u001b[0;34m,\u001b[0m \u001b[0;34m'mean'\u001b[0m\u001b[0;34m]\u001b[0m\u001b[0;34m)\u001b[0m\u001b[0;34m\u001b[0m\u001b[0;34m\u001b[0m\u001b[0m\n\u001b[0m\u001b[1;32m      4\u001b[0m \u001b[0mdf_test\u001b[0m \u001b[0;34m=\u001b[0m \u001b[0mtarget_test\u001b[0m\u001b[0;34m[\u001b[0m\u001b[0;34m[\u001b[0m\u001b[0;34m'client_id'\u001b[0m\u001b[0;34m]\u001b[0m\u001b[0;34m]\u001b[0m\u001b[0;34m.\u001b[0m\u001b[0mdrop_duplicates\u001b[0m\u001b[0;34m(\u001b[0m\u001b[0;34m)\u001b[0m\u001b[0;34m.\u001b[0m\u001b[0mset_index\u001b[0m\u001b[0;34m(\u001b[0m\u001b[0;34m'client_id'\u001b[0m\u001b[0;34m)\u001b[0m\u001b[0;34m.\u001b[0m\u001b[0mjoin\u001b[0m\u001b[0;34m(\u001b[0m\u001b[0mfeats_test\u001b[0m\u001b[0;34m,\u001b[0m \u001b[0mhow\u001b[0m\u001b[0;34m=\u001b[0m\u001b[0;34m'left'\u001b[0m\u001b[0;34m)\u001b[0m\u001b[0;34m\u001b[0m\u001b[0;34m\u001b[0m\u001b[0m\n",
      "\u001b[0;31mNameError\u001b[0m: name 'trx_test' is not defined"
     ]
    }
   ],
   "source": [
    "# Т.к. необходимо предсказать таргет на следующий отчетный период -- считаем агрегаты по всей выборке\n",
    "\n",
    "feats_test = trx_test.groupby('client_id').amount.agg(['sum', 'max', 'min', 'mean'])\n",
    "df_test = target_test[['client_id']].drop_duplicates().set_index('client_id').join(feats_test, how='left')"
   ]
  },
  {
   "cell_type": "code",
   "execution_count": 33,
   "metadata": {
    "colab": {
     "base_uri": "https://localhost:8080/",
     "height": 211
    },
    "id": "Bgez7MBEbPBy",
    "outputId": "89c34807-2aca-4ed7-d03b-fe1a4c50c27d"
   },
   "outputs": [
    {
     "ename": "NameError",
     "evalue": "name 'df_test' is not defined",
     "output_type": "error",
     "traceback": [
      "\u001b[0;31m---------------------------------------------------------------------------\u001b[0m",
      "\u001b[0;31mNameError\u001b[0m                                 Traceback (most recent call last)",
      "\u001b[0;32m<ipython-input-33-93cfee70b526>\u001b[0m in \u001b[0;36m<cell line: 5>\u001b[0;34m()\u001b[0m\n\u001b[1;32m      5\u001b[0m \u001b[0;32mfor\u001b[0m \u001b[0mt\u001b[0m \u001b[0;32min\u001b[0m \u001b[0mrange\u001b[0m\u001b[0;34m(\u001b[0m\u001b[0;36m1\u001b[0m\u001b[0;34m,\u001b[0m \u001b[0;36m5\u001b[0m\u001b[0;34m)\u001b[0m\u001b[0;34m:\u001b[0m\u001b[0;34m\u001b[0m\u001b[0;34m\u001b[0m\u001b[0m\n\u001b[1;32m      6\u001b[0m     \u001b[0mtarget_col\u001b[0m \u001b[0;34m=\u001b[0m \u001b[0;34mf'target_{t}'\u001b[0m\u001b[0;34m\u001b[0m\u001b[0;34m\u001b[0m\u001b[0m\n\u001b[0;32m----> 7\u001b[0;31m     \u001b[0mscore\u001b[0m \u001b[0;34m=\u001b[0m \u001b[0mpd\u001b[0m\u001b[0;34m.\u001b[0m\u001b[0mSeries\u001b[0m\u001b[0;34m(\u001b[0m\u001b[0mmodels\u001b[0m\u001b[0;34m[\u001b[0m\u001b[0mtarget_col\u001b[0m\u001b[0;34m]\u001b[0m\u001b[0;34m.\u001b[0m\u001b[0mpredict\u001b[0m\u001b[0;34m(\u001b[0m\u001b[0mdf_test\u001b[0m\u001b[0;34m)\u001b[0m\u001b[0;34m)\u001b[0m\u001b[0;34m\u001b[0m\u001b[0;34m\u001b[0m\u001b[0m\n\u001b[0m\u001b[1;32m      8\u001b[0m     \u001b[0mscores\u001b[0m\u001b[0;34m.\u001b[0m\u001b[0mappend\u001b[0m\u001b[0;34m(\u001b[0m\u001b[0mscore\u001b[0m\u001b[0;34m)\u001b[0m\u001b[0;34m\u001b[0m\u001b[0;34m\u001b[0m\u001b[0m\n\u001b[1;32m      9\u001b[0m \u001b[0;34m\u001b[0m\u001b[0m\n",
      "\u001b[0;31mNameError\u001b[0m: name 'df_test' is not defined"
     ]
    }
   ],
   "source": [
    "# Делаем предсказания для всех таргетов\n",
    "\n",
    "scores = []\n",
    "\n",
    "for t in range(1, 5):\n",
    "    target_col = f'target_{t}'\n",
    "    score = pd.Series(models[target_col].predict(df_test))\n",
    "    scores.append(score)\n",
    "\n",
    "scores = pd.concat(scores, axis=1)\n",
    "scores['client_id'] = df_test.reset_index().client_id\n",
    "scores_test = scores.rename(columns={0: 'target_1', 1: 'target_2', 2: 'target_3', 3: 'target_4'})"
   ]
  },
  {
   "cell_type": "code",
   "execution_count": null,
   "metadata": {
    "colab": {
     "base_uri": "https://localhost:8080/",
     "height": 142
    },
    "id": "cv_FoWlCbQt4",
    "outputId": "2541b340-861a-4cae-8792-9abd3c2d283f"
   },
   "outputs": [
    {
     "data": {
      "application/vnd.google.colaboratory.intrinsic+json": {
       "type": "dataframe",
       "variable_name": "scores_test"
      },
      "text/html": [
       "\n",
       "  <div id=\"df-c51b382f-36d7-4a0d-851a-2a7d15fd70dc\" class=\"colab-df-container\">\n",
       "    <div>\n",
       "<style scoped>\n",
       "    .dataframe tbody tr th:only-of-type {\n",
       "        vertical-align: middle;\n",
       "    }\n",
       "\n",
       "    .dataframe tbody tr th {\n",
       "        vertical-align: top;\n",
       "    }\n",
       "\n",
       "    .dataframe thead th {\n",
       "        text-align: right;\n",
       "    }\n",
       "</style>\n",
       "<table border=\"1\" class=\"dataframe\">\n",
       "  <thead>\n",
       "    <tr style=\"text-align: right;\">\n",
       "      <th></th>\n",
       "      <th>target_1</th>\n",
       "      <th>target_2</th>\n",
       "      <th>target_3</th>\n",
       "      <th>target_4</th>\n",
       "      <th>client_id</th>\n",
       "    </tr>\n",
       "  </thead>\n",
       "  <tbody>\n",
       "    <tr>\n",
       "      <th>0</th>\n",
       "      <td>0.012876</td>\n",
       "      <td>0.003337</td>\n",
       "      <td>0.016220</td>\n",
       "      <td>0.010053</td>\n",
       "      <td>2b7ff0c1c99cefe259ed83c5dfa0a403f2cbc88032b671...</td>\n",
       "    </tr>\n",
       "    <tr>\n",
       "      <th>1</th>\n",
       "      <td>0.009715</td>\n",
       "      <td>0.000566</td>\n",
       "      <td>0.007501</td>\n",
       "      <td>0.006264</td>\n",
       "      <td>0433d23e224b7a520656da6181efadb8d556bb293158c9...</td>\n",
       "    </tr>\n",
       "    <tr>\n",
       "      <th>2</th>\n",
       "      <td>0.003047</td>\n",
       "      <td>0.000175</td>\n",
       "      <td>0.001019</td>\n",
       "      <td>0.000973</td>\n",
       "      <td>f2ce8b292e5f9f778f3e20db7608ac76dc8812113a2631...</td>\n",
       "    </tr>\n",
       "  </tbody>\n",
       "</table>\n",
       "</div>\n",
       "    <div class=\"colab-df-buttons\">\n",
       "\n",
       "  <div class=\"colab-df-container\">\n",
       "    <button class=\"colab-df-convert\" onclick=\"convertToInteractive('df-c51b382f-36d7-4a0d-851a-2a7d15fd70dc')\"\n",
       "            title=\"Convert this dataframe to an interactive table.\"\n",
       "            style=\"display:none;\">\n",
       "\n",
       "  <svg xmlns=\"http://www.w3.org/2000/svg\" height=\"24px\" viewBox=\"0 -960 960 960\">\n",
       "    <path d=\"M120-120v-720h720v720H120Zm60-500h600v-160H180v160Zm220 220h160v-160H400v160Zm0 220h160v-160H400v160ZM180-400h160v-160H180v160Zm440 0h160v-160H620v160ZM180-180h160v-160H180v160Zm440 0h160v-160H620v160Z\"/>\n",
       "  </svg>\n",
       "    </button>\n",
       "\n",
       "  <style>\n",
       "    .colab-df-container {\n",
       "      display:flex;\n",
       "      gap: 12px;\n",
       "    }\n",
       "\n",
       "    .colab-df-convert {\n",
       "      background-color: #E8F0FE;\n",
       "      border: none;\n",
       "      border-radius: 50%;\n",
       "      cursor: pointer;\n",
       "      display: none;\n",
       "      fill: #1967D2;\n",
       "      height: 32px;\n",
       "      padding: 0 0 0 0;\n",
       "      width: 32px;\n",
       "    }\n",
       "\n",
       "    .colab-df-convert:hover {\n",
       "      background-color: #E2EBFA;\n",
       "      box-shadow: 0px 1px 2px rgba(60, 64, 67, 0.3), 0px 1px 3px 1px rgba(60, 64, 67, 0.15);\n",
       "      fill: #174EA6;\n",
       "    }\n",
       "\n",
       "    .colab-df-buttons div {\n",
       "      margin-bottom: 4px;\n",
       "    }\n",
       "\n",
       "    [theme=dark] .colab-df-convert {\n",
       "      background-color: #3B4455;\n",
       "      fill: #D2E3FC;\n",
       "    }\n",
       "\n",
       "    [theme=dark] .colab-df-convert:hover {\n",
       "      background-color: #434B5C;\n",
       "      box-shadow: 0px 1px 3px 1px rgba(0, 0, 0, 0.15);\n",
       "      filter: drop-shadow(0px 1px 2px rgba(0, 0, 0, 0.3));\n",
       "      fill: #FFFFFF;\n",
       "    }\n",
       "  </style>\n",
       "\n",
       "    <script>\n",
       "      const buttonEl =\n",
       "        document.querySelector('#df-c51b382f-36d7-4a0d-851a-2a7d15fd70dc button.colab-df-convert');\n",
       "      buttonEl.style.display =\n",
       "        google.colab.kernel.accessAllowed ? 'block' : 'none';\n",
       "\n",
       "      async function convertToInteractive(key) {\n",
       "        const element = document.querySelector('#df-c51b382f-36d7-4a0d-851a-2a7d15fd70dc');\n",
       "        const dataTable =\n",
       "          await google.colab.kernel.invokeFunction('convertToInteractive',\n",
       "                                                    [key], {});\n",
       "        if (!dataTable) return;\n",
       "\n",
       "        const docLinkHtml = 'Like what you see? Visit the ' +\n",
       "          '<a target=\"_blank\" href=https://colab.research.google.com/notebooks/data_table.ipynb>data table notebook</a>'\n",
       "          + ' to learn more about interactive tables.';\n",
       "        element.innerHTML = '';\n",
       "        dataTable['output_type'] = 'display_data';\n",
       "        await google.colab.output.renderOutput(dataTable, element);\n",
       "        const docLink = document.createElement('div');\n",
       "        docLink.innerHTML = docLinkHtml;\n",
       "        element.appendChild(docLink);\n",
       "      }\n",
       "    </script>\n",
       "  </div>\n",
       "\n",
       "\n",
       "<div id=\"df-34224c65-4cde-4262-a167-4730f4d77822\">\n",
       "  <button class=\"colab-df-quickchart\" onclick=\"quickchart('df-34224c65-4cde-4262-a167-4730f4d77822')\"\n",
       "            title=\"Suggest charts\"\n",
       "            style=\"display:none;\">\n",
       "\n",
       "<svg xmlns=\"http://www.w3.org/2000/svg\" height=\"24px\"viewBox=\"0 0 24 24\"\n",
       "     width=\"24px\">\n",
       "    <g>\n",
       "        <path d=\"M19 3H5c-1.1 0-2 .9-2 2v14c0 1.1.9 2 2 2h14c1.1 0 2-.9 2-2V5c0-1.1-.9-2-2-2zM9 17H7v-7h2v7zm4 0h-2V7h2v10zm4 0h-2v-4h2v4z\"/>\n",
       "    </g>\n",
       "</svg>\n",
       "  </button>\n",
       "\n",
       "<style>\n",
       "  .colab-df-quickchart {\n",
       "      --bg-color: #E8F0FE;\n",
       "      --fill-color: #1967D2;\n",
       "      --hover-bg-color: #E2EBFA;\n",
       "      --hover-fill-color: #174EA6;\n",
       "      --disabled-fill-color: #AAA;\n",
       "      --disabled-bg-color: #DDD;\n",
       "  }\n",
       "\n",
       "  [theme=dark] .colab-df-quickchart {\n",
       "      --bg-color: #3B4455;\n",
       "      --fill-color: #D2E3FC;\n",
       "      --hover-bg-color: #434B5C;\n",
       "      --hover-fill-color: #FFFFFF;\n",
       "      --disabled-bg-color: #3B4455;\n",
       "      --disabled-fill-color: #666;\n",
       "  }\n",
       "\n",
       "  .colab-df-quickchart {\n",
       "    background-color: var(--bg-color);\n",
       "    border: none;\n",
       "    border-radius: 50%;\n",
       "    cursor: pointer;\n",
       "    display: none;\n",
       "    fill: var(--fill-color);\n",
       "    height: 32px;\n",
       "    padding: 0;\n",
       "    width: 32px;\n",
       "  }\n",
       "\n",
       "  .colab-df-quickchart:hover {\n",
       "    background-color: var(--hover-bg-color);\n",
       "    box-shadow: 0 1px 2px rgba(60, 64, 67, 0.3), 0 1px 3px 1px rgba(60, 64, 67, 0.15);\n",
       "    fill: var(--button-hover-fill-color);\n",
       "  }\n",
       "\n",
       "  .colab-df-quickchart-complete:disabled,\n",
       "  .colab-df-quickchart-complete:disabled:hover {\n",
       "    background-color: var(--disabled-bg-color);\n",
       "    fill: var(--disabled-fill-color);\n",
       "    box-shadow: none;\n",
       "  }\n",
       "\n",
       "  .colab-df-spinner {\n",
       "    border: 2px solid var(--fill-color);\n",
       "    border-color: transparent;\n",
       "    border-bottom-color: var(--fill-color);\n",
       "    animation:\n",
       "      spin 1s steps(1) infinite;\n",
       "  }\n",
       "\n",
       "  @keyframes spin {\n",
       "    0% {\n",
       "      border-color: transparent;\n",
       "      border-bottom-color: var(--fill-color);\n",
       "      border-left-color: var(--fill-color);\n",
       "    }\n",
       "    20% {\n",
       "      border-color: transparent;\n",
       "      border-left-color: var(--fill-color);\n",
       "      border-top-color: var(--fill-color);\n",
       "    }\n",
       "    30% {\n",
       "      border-color: transparent;\n",
       "      border-left-color: var(--fill-color);\n",
       "      border-top-color: var(--fill-color);\n",
       "      border-right-color: var(--fill-color);\n",
       "    }\n",
       "    40% {\n",
       "      border-color: transparent;\n",
       "      border-right-color: var(--fill-color);\n",
       "      border-top-color: var(--fill-color);\n",
       "    }\n",
       "    60% {\n",
       "      border-color: transparent;\n",
       "      border-right-color: var(--fill-color);\n",
       "    }\n",
       "    80% {\n",
       "      border-color: transparent;\n",
       "      border-right-color: var(--fill-color);\n",
       "      border-bottom-color: var(--fill-color);\n",
       "    }\n",
       "    90% {\n",
       "      border-color: transparent;\n",
       "      border-bottom-color: var(--fill-color);\n",
       "    }\n",
       "  }\n",
       "</style>\n",
       "\n",
       "  <script>\n",
       "    async function quickchart(key) {\n",
       "      const quickchartButtonEl =\n",
       "        document.querySelector('#' + key + ' button');\n",
       "      quickchartButtonEl.disabled = true;  // To prevent multiple clicks.\n",
       "      quickchartButtonEl.classList.add('colab-df-spinner');\n",
       "      try {\n",
       "        const charts = await google.colab.kernel.invokeFunction(\n",
       "            'suggestCharts', [key], {});\n",
       "      } catch (error) {\n",
       "        console.error('Error during call to suggestCharts:', error);\n",
       "      }\n",
       "      quickchartButtonEl.classList.remove('colab-df-spinner');\n",
       "      quickchartButtonEl.classList.add('colab-df-quickchart-complete');\n",
       "    }\n",
       "    (() => {\n",
       "      let quickchartButtonEl =\n",
       "        document.querySelector('#df-34224c65-4cde-4262-a167-4730f4d77822 button');\n",
       "      quickchartButtonEl.style.display =\n",
       "        google.colab.kernel.accessAllowed ? 'block' : 'none';\n",
       "    })();\n",
       "  </script>\n",
       "</div>\n",
       "    </div>\n",
       "  </div>\n"
      ],
      "text/plain": [
       "   target_1  target_2  target_3  target_4  \\\n",
       "0  0.012876  0.003337  0.016220  0.010053   \n",
       "1  0.009715  0.000566  0.007501  0.006264   \n",
       "2  0.003047  0.000175  0.001019  0.000973   \n",
       "\n",
       "                                           client_id  \n",
       "0  2b7ff0c1c99cefe259ed83c5dfa0a403f2cbc88032b671...  \n",
       "1  0433d23e224b7a520656da6181efadb8d556bb293158c9...  \n",
       "2  f2ce8b292e5f9f778f3e20db7608ac76dc8812113a2631...  "
      ]
     },
     "execution_count": 5,
     "metadata": {},
     "output_type": "execute_result"
    }
   ],
   "source": [
    "scores_test.head(3)"
   ]
  },
  {
   "cell_type": "code",
   "execution_count": null,
   "metadata": {
    "colab": {
     "base_uri": "https://localhost:8080/"
    },
    "id": "5QlqZYg4bR9j",
    "outputId": "934ca84f-813e-4b8e-d2d7-056732623ccc"
   },
   "outputs": [
    {
     "data": {
      "text/plain": [
       "(140488, 5)"
      ]
     },
     "execution_count": 6,
     "metadata": {},
     "output_type": "execute_result"
    }
   ],
   "source": [
    "scores_test.shape"
   ]
  },
  {
   "cell_type": "code",
   "execution_count": null,
   "metadata": {
    "id": "2kn3UgP-5E9F"
   },
   "outputs": [],
   "source": [
    "target_ids_submit = pd.read_parquet(f'{DATA_PATH}/test_target_ids.parquet').set_index('client_id')\n",
    "submission = target_ids_submit.join(scores_test.set_index('client_id'), how='inner')"
   ]
  },
  {
   "cell_type": "code",
   "execution_count": null,
   "metadata": {
    "id": "6mdGyYza5E9F",
    "outputId": "343bb776-aea3-457c-f02f-235e825b07c4"
   },
   "outputs": [
    {
     "data": {
      "text/plain": [
       "(140488, 4)"
      ]
     },
     "execution_count": 138,
     "metadata": {},
     "output_type": "execute_result"
    }
   ],
   "source": [
    "submission.shape"
   ]
  },
  {
   "cell_type": "code",
   "execution_count": null,
   "metadata": {
    "id": "8FTydrqrbTGf"
   },
   "outputs": [],
   "source": [
    "# Сохраняем для сабмита\n",
    "\n",
    "submission.to_csv(f'{DATA_PATH}/sample_submission.csv', index=False)"
   ]
  },
  {
   "cell_type": "code",
   "execution_count": 2,
   "metadata": {
    "id": "v9GjvITh5MVR"
   },
   "outputs": [],
   "source": [
    "submission = pd.read_csv(\"/content/sample_submission.csv\")"
   ]
  },
  {
   "cell_type": "code",
   "execution_count": 3,
   "metadata": {
    "colab": {
     "base_uri": "https://localhost:8080/"
    },
    "id": "7J41QfbI5uAo",
    "outputId": "a293456c-23cc-467b-cbb3-62a52ec733f2"
   },
   "outputs": [
    {
     "data": {
      "text/plain": [
       "(140488, 4)"
      ]
     },
     "execution_count": 3,
     "metadata": {},
     "output_type": "execute_result"
    }
   ],
   "source": [
    "submission.shape"
   ]
  },
  {
   "cell_type": "code",
   "execution_count": 4,
   "metadata": {
    "id": "DSMlRy6k505m"
   },
   "outputs": [],
   "source": [
    "target_ids_submit = pd.read_parquet('/content/test_target_ids.parquet')"
   ]
  },
  {
   "cell_type": "code",
   "execution_count": 6,
   "metadata": {
    "colab": {
     "base_uri": "https://localhost:8080/"
    },
    "id": "KlLLNdev6N4j",
    "outputId": "200a3a15-7d74-4b70-c384-b04f3947e1d4"
   },
   "outputs": [
    {
     "data": {
      "text/plain": [
       "(140488,)"
      ]
     },
     "execution_count": 6,
     "metadata": {},
     "output_type": "execute_result"
    }
   ],
   "source": [
    "target_ids_submit.client_id.unique().shape"
   ]
  }
 ],
 "metadata": {
  "colab": {
   "provenance": []
  },
  "kernelspec": {
   "display_name": "DataSphere Kernel",
   "language": "python",
   "name": "python3"
  },
  "language_info": {
   "codemirror_mode": {
    "name": "ipython",
    "version": 3
   },
   "file_extension": ".py",
   "mimetype": "text/x-python",
   "name": "python",
   "nbconvert_exporter": "python",
   "pygments_lexer": "ipython3",
   "version": "3.10.12"
  }
 },
 "nbformat": 4,
 "nbformat_minor": 4
}
